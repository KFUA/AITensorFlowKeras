{
 "cells": [
  {
   "cell_type": "markdown",
   "metadata": {},
   "source": [
    "# Keras卷积神经网络识别CIFAR-10图像"
   ]
  },
  {
   "cell_type": "markdown",
   "metadata": {},
   "source": [
    "## 1 卷积神经网络介绍"
   ]
  },
  {
   "cell_type": "markdown",
   "metadata": {},
   "source": [
    "输入层：图像大小为32x32"
   ]
  },
  {
   "cell_type": "markdown",
   "metadata": {},
   "source": [
    "第1次卷积运算：输入的数字图像大小为32x32，使用随机产生的3x3过滤器进行卷积运算，卷积运算并不会改变图像大小，处理后的图像大小仍然是32x32。总共会随机产生32个过滤器，也就是说会产生32个图像，每个图像提取不同的特征。"
   ]
  },
  {
   "cell_type": "markdown",
   "metadata": {},
   "source": [
    "第1次缩减采样（池化）：使用Max-Pool缩减采样，将32个32x32的图像缩小为32个16x16的图像，但是图像的数量仍为32个"
   ]
  },
  {
   "cell_type": "markdown",
   "metadata": {},
   "source": [
    "第2次卷积运算：将原本32个图像转换为64个图像，卷积运算不会改变图像大小，仍为16x16"
   ]
  },
  {
   "cell_type": "markdown",
   "metadata": {},
   "source": [
    "第2次缩减采样（池化）：将64个16x16的图像缩小为64个8x8的图像"
   ]
  },
  {
   "cell_type": "markdown",
   "metadata": {},
   "source": [
    "平坦层：将64个8x8的图像以reshape转换为一维向量，长度为64x8x8=4096,也就是4096个float数，作为神经元的输入"
   ]
  },
  {
   "cell_type": "markdown",
   "metadata": {},
   "source": [
    "隐藏层：共1024个神经元"
   ]
  },
  {
   "cell_type": "markdown",
   "metadata": {},
   "source": [
    "输出层：共有10个神经元，对应0~9个图像"
   ]
  },
  {
   "cell_type": "markdown",
   "metadata": {},
   "source": [
    "建立CNN模型的步骤与建立MLP类似"
   ]
  },
  {
   "cell_type": "markdown",
   "metadata": {},
   "source": [
    "## 2 数据预处理"
   ]
  },
  {
   "cell_type": "markdown",
   "metadata": {},
   "source": [
    "### 2.1 导入所需模块"
   ]
  },
  {
   "cell_type": "code",
   "execution_count": 1,
   "metadata": {},
   "outputs": [
    {
     "name": "stderr",
     "output_type": "stream",
     "text": [
      "D:\\Python\\envs\\tensorFlow\\lib\\site-packages\\h5py\\__init__.py:34: FutureWarning: Conversion of the second argument of issubdtype from `float` to `np.floating` is deprecated. In future, it will be treated as `np.float64 == np.dtype(float).type`.\n",
      "  from ._conv import register_converters as _register_converters\n",
      "Using TensorFlow backend.\n"
     ]
    }
   ],
   "source": [
    "from keras.datasets import cifar10\n",
    "import numpy as np\n",
    "np.random.seed(10)"
   ]
  },
  {
   "cell_type": "markdown",
   "metadata": {},
   "source": [
    "### 2.2 读取CIFAR-10数据"
   ]
  },
  {
   "cell_type": "code",
   "execution_count": 2,
   "metadata": {
    "collapsed": true
   },
   "outputs": [],
   "source": [
    "(x_img_train,y_label_train),(x_img_test,y_label_test)=cifar10.load_data()"
   ]
  },
  {
   "cell_type": "markdown",
   "metadata": {},
   "source": [
    "### 2.3 显示训练与验证数据的shape"
   ]
  },
  {
   "cell_type": "code",
   "execution_count": 3,
   "metadata": {},
   "outputs": [
    {
     "name": "stdout",
     "output_type": "stream",
     "text": [
      "train data: images: (50000, 32, 32, 3) labels: (50000, 1)\n",
      "test data: images: (10000, 32, 32, 3) labels: (10000, 1)\n"
     ]
    }
   ],
   "source": [
    "print(\"train data:\",'images:',x_img_train.shape,\"labels:\",y_label_train.shape)\n",
    "print(\"test data:\",'images:',x_img_test.shape,\"labels:\",y_label_test.shape)"
   ]
  },
  {
   "cell_type": "markdown",
   "metadata": {},
   "source": [
    "### 2.4 将照片图像特征值标准化"
   ]
  },
  {
   "cell_type": "markdown",
   "metadata": {},
   "source": [
    "将features（照片图像特征值）标准化可以提高模型预测的准确率，并且更快收敛。"
   ]
  },
  {
   "cell_type": "code",
   "execution_count": 4,
   "metadata": {
    "collapsed": true
   },
   "outputs": [],
   "source": [
    "x_img_train_normalize=x_img_train.astype('float32')/255.0\n",
    "x_img_test_normalize=x_img_test.astype('float32')/255.0"
   ]
  },
  {
   "cell_type": "markdown",
   "metadata": {},
   "source": [
    "### 2.5 以一位有效编码进行转换"
   ]
  },
  {
   "cell_type": "code",
   "execution_count": 5,
   "metadata": {
    "collapsed": true
   },
   "outputs": [],
   "source": [
    "from keras.utils import np_utils\n",
    "y_lable_train_OneHot=np_utils.to_categorical(y_label_train)\n",
    "y_label_test_OneGot=np_utils.to_categorical(y_label_test)"
   ]
  },
  {
   "cell_type": "markdown",
   "metadata": {},
   "source": [
    "## 3 建立模型"
   ]
  },
  {
   "cell_type": "markdown",
   "metadata": {},
   "source": [
    "### 3.1 导入模块"
   ]
  },
  {
   "cell_type": "code",
   "execution_count": 6,
   "metadata": {
    "collapsed": true
   },
   "outputs": [],
   "source": [
    "from keras.models import Sequential\n",
    "from keras.layers import Dense,Dropout,Activation,Flatten\n",
    "from keras.layers import Conv2D,MaxPool2D,ZeroPadding2D"
   ]
  },
  {
   "cell_type": "markdown",
   "metadata": {},
   "source": [
    "### 3.2 建立keras的Sequential()模型"
   ]
  },
  {
   "cell_type": "code",
   "execution_count": 7,
   "metadata": {
    "collapsed": true
   },
   "outputs": [],
   "source": [
    "model=Sequential()"
   ]
  },
  {
   "cell_type": "markdown",
   "metadata": {},
   "source": [
    "### 3.3 建立卷积层1与池化层1"
   ]
  },
  {
   "cell_type": "code",
   "execution_count": 8,
   "metadata": {
    "collapsed": true
   },
   "outputs": [],
   "source": [
    "model.add(Conv2D(filters=32,kernel_size=(3,3),\n",
    "                input_shape=(32,32,3),\n",
    "                activation='relu',\n",
    "                padding='same'))\n",
    "model.add(Dropout(rate=0.25))\n",
    "model.add(MaxPool2D(pool_size=(2,2))) "
   ]
  },
  {
   "cell_type": "markdown",
   "metadata": {},
   "source": [
    "### 3.4 建立卷积层2与池化层2"
   ]
  },
  {
   "cell_type": "code",
   "execution_count": 9,
   "metadata": {
    "collapsed": true
   },
   "outputs": [],
   "source": [
    "model.add(Conv2D(filters=64,kernel_size=(3,3),\n",
    "                activation='relu',padding='same'))\n",
    "model.add(Dropout(rate=0.25))\n",
    "model.add(MaxPool2D(pool_size=(2,2))) "
   ]
  },
  {
   "cell_type": "markdown",
   "metadata": {},
   "source": [
    "### 3.5 建立神经网络（平坦层、隐藏层、输出层）"
   ]
  },
  {
   "cell_type": "code",
   "execution_count": 10,
   "metadata": {
    "collapsed": true
   },
   "outputs": [],
   "source": [
    "#建立平坦层\n",
    "model.add(Flatten())\n",
    "model.add(Dropout(rate=0.25))"
   ]
  },
  {
   "cell_type": "code",
   "execution_count": 11,
   "metadata": {
    "collapsed": true
   },
   "outputs": [],
   "source": [
    "#建立隐藏层\n",
    "model.add(Dense(1024,activation='relu'))\n",
    "model.add(Dropout(rate=0.25))"
   ]
  },
  {
   "cell_type": "code",
   "execution_count": 12,
   "metadata": {
    "collapsed": true
   },
   "outputs": [],
   "source": [
    "#建立输出层\n",
    "model.add(Dense(10,activation='softmax'))"
   ]
  },
  {
   "cell_type": "markdown",
   "metadata": {},
   "source": [
    "### 3.6 查看模型摘要"
   ]
  },
  {
   "cell_type": "code",
   "execution_count": 13,
   "metadata": {},
   "outputs": [
    {
     "name": "stdout",
     "output_type": "stream",
     "text": [
      "_________________________________________________________________\n",
      "Layer (type)                 Output Shape              Param #   \n",
      "=================================================================\n",
      "conv2d_1 (Conv2D)            (None, 32, 32, 32)        896       \n",
      "_________________________________________________________________\n",
      "dropout_1 (Dropout)          (None, 32, 32, 32)        0         \n",
      "_________________________________________________________________\n",
      "max_pooling2d_1 (MaxPooling2 (None, 16, 16, 32)        0         \n",
      "_________________________________________________________________\n",
      "conv2d_2 (Conv2D)            (None, 16, 16, 64)        18496     \n",
      "_________________________________________________________________\n",
      "dropout_2 (Dropout)          (None, 16, 16, 64)        0         \n",
      "_________________________________________________________________\n",
      "max_pooling2d_2 (MaxPooling2 (None, 8, 8, 64)          0         \n",
      "_________________________________________________________________\n",
      "flatten_1 (Flatten)          (None, 4096)              0         \n",
      "_________________________________________________________________\n",
      "dropout_3 (Dropout)          (None, 4096)              0         \n",
      "_________________________________________________________________\n",
      "dense_1 (Dense)              (None, 1024)              4195328   \n",
      "_________________________________________________________________\n",
      "dropout_4 (Dropout)          (None, 1024)              0         \n",
      "_________________________________________________________________\n",
      "dense_2 (Dense)              (None, 10)                10250     \n",
      "=================================================================\n",
      "Total params: 4,224,970\n",
      "Trainable params: 4,224,970\n",
      "Non-trainable params: 0\n",
      "_________________________________________________________________\n",
      "None\n"
     ]
    }
   ],
   "source": [
    "print(model.summary())"
   ]
  },
  {
   "cell_type": "markdown",
   "metadata": {
    "collapsed": true
   },
   "source": [
    "## 4 进行训练"
   ]
  },
  {
   "cell_type": "markdown",
   "metadata": {},
   "source": [
    "### 4.1 定义训练方式"
   ]
  },
  {
   "cell_type": "code",
   "execution_count": 14,
   "metadata": {
    "collapsed": true
   },
   "outputs": [],
   "source": [
    "model.compile(loss='categorical_crossentropy',  #设置损失函数，在深度学习中使用cross_entropy(交叉熵)训练的效果比较好。\n",
    "              optimizer='adam',         #设置训练时，在深度学习中使用adam优化器可以让训练更快收敛，并提高准确率。\n",
    "              metrics=['accuracy'])    #设置评估模型的方式是准确率"
   ]
  },
  {
   "cell_type": "markdown",
   "metadata": {},
   "source": [
    "### 4.2 开始训练"
   ]
  },
  {
   "cell_type": "code",
   "execution_count": 15,
   "metadata": {},
   "outputs": [
    {
     "name": "stdout",
     "output_type": "stream",
     "text": [
      "Train on 40000 samples, validate on 10000 samples\n",
      "Epoch 1/10\n",
      "40000/40000 [==============================] - 161s 4ms/step - loss: 1.5015 - acc: 0.4599 - val_loss: 1.2867 - val_acc: 0.5807\n",
      "Epoch 2/10\n",
      "40000/40000 [==============================] - 163s 4ms/step - loss: 1.1363 - acc: 0.5958 - val_loss: 1.1255 - val_acc: 0.6310\n",
      "Epoch 3/10\n",
      "40000/40000 [==============================] - 158s 4ms/step - loss: 0.9832 - acc: 0.6540 - val_loss: 1.0206 - val_acc: 0.6587\n",
      "Epoch 4/10\n",
      "40000/40000 [==============================] - 160s 4ms/step - loss: 0.8734 - acc: 0.6912 - val_loss: 0.9498 - val_acc: 0.6911\n",
      "Epoch 5/10\n",
      "40000/40000 [==============================] - 183s 5ms/step - loss: 0.7851 - acc: 0.7239 - val_loss: 0.8781 - val_acc: 0.7052\n",
      "Epoch 6/10\n",
      "40000/40000 [==============================] - 183s 5ms/step - loss: 0.6976 - acc: 0.7534 - val_loss: 0.8363 - val_acc: 0.7193\n",
      "Epoch 7/10\n",
      "40000/40000 [==============================] - 177s 4ms/step - loss: 0.6180 - acc: 0.7830 - val_loss: 0.8146 - val_acc: 0.7257\n",
      "Epoch 8/10\n",
      "40000/40000 [==============================] - 178s 4ms/step - loss: 0.5490 - acc: 0.8082 - val_loss: 0.7708 - val_acc: 0.7462\n",
      "Epoch 9/10\n",
      "40000/40000 [==============================] - 178s 4ms/step - loss: 0.4830 - acc: 0.8312 - val_loss: 0.7579 - val_acc: 0.7378\n",
      "Epoch 10/10\n",
      "40000/40000 [==============================] - 175s 4ms/step - loss: 0.4312 - acc: 0.8498 - val_loss: 0.7994 - val_acc: 0.7247\n"
     ]
    }
   ],
   "source": [
    "train_history=model.fit(x_img_train_normalize,y_lable_train_OneHot,\n",
    "                       validation_split=0.2,\n",
    "                       epochs=10,batch_size=128,verbose=1)"
   ]
  },
  {
   "cell_type": "code",
   "execution_count": 16,
   "metadata": {},
   "outputs": [
    {
     "name": "stdout",
     "output_type": "stream",
     "text": [
      "Save model to disk\n"
     ]
    }
   ],
   "source": [
    "model.save(\"SaveModel/cifarCnnModel.h10\")\n",
    "print(\"Save model to disk\")"
   ]
  },
  {
   "cell_type": "markdown",
   "metadata": {},
   "source": [
    "### 4.3 画出准确率结果"
   ]
  },
  {
   "cell_type": "code",
   "execution_count": 17,
   "metadata": {
    "collapsed": true
   },
   "outputs": [],
   "source": [
    "import matplotlib.pyplot as plt\n",
    "def show_train_history(train_history,train,validation):   #train表示训练数据的执行结果，validation表示验证数据的执行结果\n",
    "    plt.plot(train_history.history[train])\n",
    "    plt.plot(train_history.history[validation])\n",
    "    plt.title('Train History')                 #显示图的标题\n",
    "    plt.ylabel(train)                          #显示y轴的标签\n",
    "    plt.xlabel('Epoch')                        #设置x轴的标签为‘Epoch’       \n",
    "    plt.legend(['train','validation'],loc='upper left')     #设置图例是显示‘train’与‘validation’，位置在左上角\n",
    "    plt.show()"
   ]
  },
  {
   "cell_type": "code",
   "execution_count": 18,
   "metadata": {},
   "outputs": [
    {
     "data": {
      "image/png": "[encoded data removed]",
      "text/plain": [
       "<matplotlib.figure.Figure at 0x13c69f98>"
      ]
     },
     "metadata": {},
     "output_type": "display_data"
    }
   ],
   "source": [
    "show_train_history(train_history,'acc','val_acc')"
   ]
  },
  {
   "cell_type": "markdown",
   "metadata": {},
   "source": [
    "### 4.4 画出误差的执行结果"
   ]
  },
  {
   "cell_type": "code",
   "execution_count": 19,
   "metadata": {},
   "outputs": [
    {
     "data": {
      "image/png": "[encoded data removed]",
      "text/plain": [
       "<matplotlib.figure.Figure at 0x15ad5b38>"
      ]
     },
     "metadata": {},
     "output_type": "display_data"
    }
   ],
   "source": [
    "show_train_history(train_history,'loss','val_loss')"
   ]
  },
  {
   "cell_type": "markdown",
   "metadata": {},
   "source": [
    "## 5 评估模型的准确率"
   ]
  },
  {
   "cell_type": "code",
   "execution_count": 20,
   "metadata": {},
   "outputs": [
    {
     "data": {
      "text/plain": [
       "0.7216"
      ]
     },
     "execution_count": 20,
     "metadata": {},
     "output_type": "execute_result"
    }
   ],
   "source": [
    "scores = model.evaluate(x_img_test_normalize,\n",
    "                       y_label_test_OneGot,verbose=0)\n",
    "scores[1]"
   ]
  },
  {
   "cell_type": "markdown",
   "metadata": {},
   "source": [
    "## 6 进行预测"
   ]
  },
  {
   "cell_type": "markdown",
   "metadata": {},
   "source": [
    "### 6.1 执行预测"
   ]
  },
  {
   "cell_type": "code",
   "execution_count": 21,
   "metadata": {
    "collapsed": true
   },
   "outputs": [],
   "source": [
    "prediction=model.predict_classes(x_img_test_normalize)"
   ]
  },
  {
   "cell_type": "markdown",
   "metadata": {},
   "source": [
    "### 6.2 预测结果"
   ]
  },
  {
   "cell_type": "code",
   "execution_count": 22,
   "metadata": {},
   "outputs": [
    {
     "data": {
      "text/plain": [
       "array([3, 8, 8, 0, 6, 6, 1, 6, 3, 1], dtype=int64)"
      ]
     },
     "execution_count": 22,
     "metadata": {},
     "output_type": "execute_result"
    }
   ],
   "source": [
    "prediction[:10]"
   ]
  },
  {
   "cell_type": "markdown",
   "metadata": {},
   "source": [
    "### 6.3 显示前10项预测结果"
   ]
  },
  {
   "cell_type": "code",
   "execution_count": 23,
   "metadata": {
    "collapsed": true
   },
   "outputs": [],
   "source": [
    "import matplotlib.pyplot as plt\n",
    "#共10个分类：飞机，汽车，鸟，猫，鹿，狗，青蛙，马，船，卡车。\n",
    "label_dict={0:\"airplane\",1:\"automobile\",2:\"bird\",3:\"cat\",4:\"deer\",5:\"dog\",6:\"frog\",7:\"horse\",8:\"ship\",9:\"truck\"}\n",
    "def plot_images_labels_prediction(images,labels,prediction,idx,num=10):\n",
    "    fig=plt.gcf()\n",
    "    fig.set_size_inches(12,14)\n",
    "    if num>25:\n",
    "        num=25\n",
    "    for i in range(0,num):\n",
    "        ax=plt.subplot(5,5,1+i)\n",
    "        ax.imshow(images[idx],cmap='binary')\n",
    "        title = str(i)+','+label_dict[labels[i][0]]\n",
    "        if len(prediction)>0:\n",
    "            title+='=>'+label_dict[prediction[i]]\n",
    "        ax.set_title(title,fontsize=10)\n",
    "        ax.set_xticks([]);ax.set_yticks([])\n",
    "        idx+=1\n",
    "    plt.show()"
   ]
  },
  {
   "cell_type": "code",
   "execution_count": 24,
   "metadata": {},
   "outputs": [
    {
     "data": {
      "image/png": "[encoded data removed]",
      "text/plain": [
       "<matplotlib.figure.Figure at 0x15b40d68>"
      ]
     },
     "metadata": {},
     "output_type": "display_data"
    }
   ],
   "source": [
    "plot_images_labels_prediction(x_img_test,y_label_test,prediction,0,10)"
   ]
  },
  {
   "cell_type": "markdown",
   "metadata": {},
   "source": [
    "## 7 查看预测概率"
   ]
  },
  {
   "cell_type": "markdown",
   "metadata": {},
   "source": [
    "### 7.1 使用测试数据进行预测"
   ]
  },
  {
   "cell_type": "code",
   "execution_count": 25,
   "metadata": {
    "collapsed": true
   },
   "outputs": [],
   "source": [
    "Predicted_Probability=model.predict(x_img_test_normalize)"
   ]
  },
  {
   "cell_type": "markdown",
   "metadata": {},
   "source": [
    "### 7.2 建立显示预测概率的函数"
   ]
  },
  {
   "cell_type": "code",
   "execution_count": 26,
   "metadata": {
    "collapsed": true
   },
   "outputs": [],
   "source": [
    "#传入的参数：y(真实值)、prediction(预测结果)、x_img(预测的图像)、Predicted_Probability(预测概率)、i(开始显示的数据index)\n",
    "def show_Predicted_Probability(y,prediction,x_img,Predicted_Probability,i):\n",
    "    \n",
    "    print('lable:',label_dict[y[i][0]],                       #显示真实值与预测结果\n",
    "          'predict',label_dict[prediction[i]])\n",
    "    \n",
    "    plt.figure(figsize=(2,2))                             #设置显示图像的大小，并且显示出照片图像\n",
    "    plt.imshow(np.reshape(x_img_test[i],(32,32,3)))\n",
    "    plt.show()\n",
    "    \n",
    "    for j in range(10):               #使用for循环读取Prediction_Probability显示预测概率\n",
    "        print(label_dict[j]+\n",
    "             ' Probability:%1.9f'%(Predicted_Probability[i][j]))"
   ]
  },
  {
   "cell_type": "markdown",
   "metadata": {},
   "source": [
    "### 7.3 显示数据预测的概率"
   ]
  },
  {
   "cell_type": "code",
   "execution_count": 27,
   "metadata": {},
   "outputs": [
    {
     "name": "stdout",
     "output_type": "stream",
     "text": [
      "lable: cat predict cat\n"
     ]
    },
    {
     "data": {
      "image/png": "[encoded data removed]",
      "text/plain": [
       "<matplotlib.figure.Figure at 0x15b1bef0>"
      ]
     },
     "metadata": {},
     "output_type": "display_data"
    },
    {
     "name": "stdout",
     "output_type": "stream",
     "text": [
      "airplane Probability:0.000711507\n",
      "automobile Probability:0.000709174\n",
      "bird Probability:0.004650989\n",
      "cat Probability:0.697963476\n",
      "deer Probability:0.004086797\n",
      "dog Probability:0.256247520\n",
      "frog Probability:0.024923997\n",
      "horse Probability:0.001921225\n",
      "ship Probability:0.008449926\n",
      "truck Probability:0.000335309\n"
     ]
    }
   ],
   "source": [
    "show_Predicted_Probability(y_label_test,prediction,\n",
    "                          x_img_test,Predicted_Probability,0)"
   ]
  },
  {
   "cell_type": "code",
   "execution_count": 28,
   "metadata": {},
   "outputs": [
    {
     "name": "stdout",
     "output_type": "stream",
     "text": [
      "lable: airplane predict airplane\n"
     ]
    },
    {
     "data": {
      "image/png": "[encoded data removed]",
      "text/plain": [
       "<matplotlib.figure.Figure at 0x181741d0>"
      ]
     },
     "metadata": {},
     "output_type": "display_data"
    },
    {
     "name": "stdout",
     "output_type": "stream",
     "text": [
      "airplane Probability:0.767244220\n",
      "automobile Probability:0.001236893\n",
      "bird Probability:0.027084334\n",
      "cat Probability:0.000962198\n",
      "deer Probability:0.001804781\n",
      "dog Probability:0.000023256\n",
      "frog Probability:0.000049170\n",
      "horse Probability:0.000036990\n",
      "ship Probability:0.201146275\n",
      "truck Probability:0.000411976\n"
     ]
    }
   ],
   "source": [
    "show_Predicted_Probability(y_label_test,prediction,x_img_test,Predicted_Probability,3)"
   ]
  },
  {
   "cell_type": "markdown",
   "metadata": {},
   "source": [
    "## 8 显示混淆矩阵"
   ]
  },
  {
   "cell_type": "markdown",
   "metadata": {},
   "source": [
    "想知道所建立的模型中哪些图像类别的预测准确率最高，哪些图像类别最容易混淆（预测错误），就可以使用混淆矩阵来显示。"
   ]
  },
  {
   "cell_type": "markdown",
   "metadata": {},
   "source": [
    "### 8.1 查看预测结果的形状"
   ]
  },
  {
   "cell_type": "markdown",
   "metadata": {},
   "source": [
    "我们将使用pd.crosstab建立混淆矩阵，但是pd.crosstab的输入都必须是一维数组，所以要先确认prediction(预测结果)与y_label_test（真实值）是一维数组。如果不是，必须先转为一维数组。"
   ]
  },
  {
   "cell_type": "code",
   "execution_count": 29,
   "metadata": {},
   "outputs": [
    {
     "data": {
      "text/plain": [
       "(10000,)"
      ]
     },
     "execution_count": 29,
     "metadata": {},
     "output_type": "execute_result"
    }
   ],
   "source": [
    "prediction.shape"
   ]
  },
  {
   "cell_type": "markdown",
   "metadata": {
    "collapsed": true
   },
   "source": [
    "### 8.2 查看y_label_test真实值的shape形状"
   ]
  },
  {
   "cell_type": "code",
   "execution_count": 30,
   "metadata": {},
   "outputs": [
    {
     "data": {
      "text/plain": [
       "(10000, 1)"
      ]
     },
     "execution_count": 30,
     "metadata": {},
     "output_type": "execute_result"
    }
   ],
   "source": [
    "y_label_test.shape"
   ]
  },
  {
   "cell_type": "markdown",
   "metadata": {},
   "source": [
    "由以上结果可知，y_label_test真实值的shape形状是二维数组，必须将其转换为二维数组。"
   ]
  },
  {
   "cell_type": "markdown",
   "metadata": {},
   "source": [
    "### 8.3 将y_label_test真实值转换为一维数组"
   ]
  },
  {
   "cell_type": "code",
   "execution_count": 31,
   "metadata": {},
   "outputs": [
    {
     "data": {
      "text/plain": [
       "array([3, 8, 8, ..., 5, 1, 7])"
      ]
     },
     "execution_count": 31,
     "metadata": {},
     "output_type": "execute_result"
    }
   ],
   "source": [
    "y_label_test.reshape(-1)"
   ]
  },
  {
   "cell_type": "markdown",
   "metadata": {},
   "source": [
    "### 8.4 使用pandas crosstab建立混淆矩阵"
   ]
  },
  {
   "cell_type": "code",
   "execution_count": 32,
   "metadata": {},
   "outputs": [
    {
     "name": "stdout",
     "output_type": "stream",
     "text": [
      "{0: 'airplane', 1: 'automobile', 2: 'bird', 3: 'cat', 4: 'deer', 5: 'dog', 6: 'frog', 7: 'horse', 8: 'ship', 9: 'truck'}\n"
     ]
    },
    {
     "data": {
      "text/html": [
       "<div>\n",
       "<style>\n",
       "    .dataframe thead tr:only-child th {\n",
       "        text-align: right;\n",
       "    }\n",
       "\n",
       "    .dataframe thead th {\n",
       "        text-align: left;\n",
       "    }\n",
       "\n",
       "    .dataframe tbody tr th {\n",
       "        vertical-align: top;\n",
       "    }\n",
       "</style>\n",
       "<table border=\"1\" class=\"dataframe\">\n",
       "  <thead>\n",
       "    <tr style=\"text-align: right;\">\n",
       "      <th>predict</th>\n",
       "      <th>0</th>\n",
       "      <th>1</th>\n",
       "      <th>2</th>\n",
       "      <th>3</th>\n",
       "      <th>4</th>\n",
       "      <th>5</th>\n",
       "      <th>6</th>\n",
       "      <th>7</th>\n",
       "      <th>8</th>\n",
       "      <th>9</th>\n",
       "    </tr>\n",
       "    <tr>\n",
       "      <th>label</th>\n",
       "      <th></th>\n",
       "      <th></th>\n",
       "      <th></th>\n",
       "      <th></th>\n",
       "      <th></th>\n",
       "      <th></th>\n",
       "      <th></th>\n",
       "      <th></th>\n",
       "      <th></th>\n",
       "      <th></th>\n",
       "    </tr>\n",
       "  </thead>\n",
       "  <tbody>\n",
       "    <tr>\n",
       "      <th>0</th>\n",
       "      <td>803</td>\n",
       "      <td>5</td>\n",
       "      <td>64</td>\n",
       "      <td>9</td>\n",
       "      <td>25</td>\n",
       "      <td>4</td>\n",
       "      <td>26</td>\n",
       "      <td>4</td>\n",
       "      <td>44</td>\n",
       "      <td>16</td>\n",
       "    </tr>\n",
       "    <tr>\n",
       "      <th>1</th>\n",
       "      <td>43</td>\n",
       "      <td>786</td>\n",
       "      <td>23</td>\n",
       "      <td>12</td>\n",
       "      <td>7</td>\n",
       "      <td>4</td>\n",
       "      <td>28</td>\n",
       "      <td>2</td>\n",
       "      <td>32</td>\n",
       "      <td>63</td>\n",
       "    </tr>\n",
       "    <tr>\n",
       "      <th>2</th>\n",
       "      <td>46</td>\n",
       "      <td>1</td>\n",
       "      <td>630</td>\n",
       "      <td>27</td>\n",
       "      <td>120</td>\n",
       "      <td>44</td>\n",
       "      <td>110</td>\n",
       "      <td>15</td>\n",
       "      <td>5</td>\n",
       "      <td>2</td>\n",
       "    </tr>\n",
       "    <tr>\n",
       "      <th>3</th>\n",
       "      <td>14</td>\n",
       "      <td>7</td>\n",
       "      <td>100</td>\n",
       "      <td>427</td>\n",
       "      <td>82</td>\n",
       "      <td>146</td>\n",
       "      <td>190</td>\n",
       "      <td>19</td>\n",
       "      <td>6</td>\n",
       "      <td>9</td>\n",
       "    </tr>\n",
       "    <tr>\n",
       "      <th>4</th>\n",
       "      <td>21</td>\n",
       "      <td>2</td>\n",
       "      <td>63</td>\n",
       "      <td>24</td>\n",
       "      <td>781</td>\n",
       "      <td>13</td>\n",
       "      <td>75</td>\n",
       "      <td>11</td>\n",
       "      <td>10</td>\n",
       "      <td>0</td>\n",
       "    </tr>\n",
       "    <tr>\n",
       "      <th>5</th>\n",
       "      <td>10</td>\n",
       "      <td>1</td>\n",
       "      <td>63</td>\n",
       "      <td>138</td>\n",
       "      <td>71</td>\n",
       "      <td>576</td>\n",
       "      <td>105</td>\n",
       "      <td>31</td>\n",
       "      <td>2</td>\n",
       "      <td>3</td>\n",
       "    </tr>\n",
       "    <tr>\n",
       "      <th>6</th>\n",
       "      <td>3</td>\n",
       "      <td>2</td>\n",
       "      <td>31</td>\n",
       "      <td>14</td>\n",
       "      <td>22</td>\n",
       "      <td>9</td>\n",
       "      <td>915</td>\n",
       "      <td>1</td>\n",
       "      <td>1</td>\n",
       "      <td>2</td>\n",
       "    </tr>\n",
       "    <tr>\n",
       "      <th>7</th>\n",
       "      <td>13</td>\n",
       "      <td>0</td>\n",
       "      <td>54</td>\n",
       "      <td>17</td>\n",
       "      <td>129</td>\n",
       "      <td>58</td>\n",
       "      <td>25</td>\n",
       "      <td>698</td>\n",
       "      <td>3</td>\n",
       "      <td>3</td>\n",
       "    </tr>\n",
       "    <tr>\n",
       "      <th>8</th>\n",
       "      <td>58</td>\n",
       "      <td>18</td>\n",
       "      <td>26</td>\n",
       "      <td>8</td>\n",
       "      <td>12</td>\n",
       "      <td>5</td>\n",
       "      <td>20</td>\n",
       "      <td>0</td>\n",
       "      <td>837</td>\n",
       "      <td>16</td>\n",
       "    </tr>\n",
       "    <tr>\n",
       "      <th>9</th>\n",
       "      <td>59</td>\n",
       "      <td>59</td>\n",
       "      <td>22</td>\n",
       "      <td>14</td>\n",
       "      <td>6</td>\n",
       "      <td>10</td>\n",
       "      <td>30</td>\n",
       "      <td>8</td>\n",
       "      <td>29</td>\n",
       "      <td>763</td>\n",
       "    </tr>\n",
       "  </tbody>\n",
       "</table>\n",
       "</div>"
      ],
      "text/plain": [
       "predict    0    1    2    3    4    5    6    7    8    9\n",
       "label                                                    \n",
       "0        803    5   64    9   25    4   26    4   44   16\n",
       "1         43  786   23   12    7    4   28    2   32   63\n",
       "2         46    1  630   27  120   44  110   15    5    2\n",
       "3         14    7  100  427   82  146  190   19    6    9\n",
       "4         21    2   63   24  781   13   75   11   10    0\n",
       "5         10    1   63  138   71  576  105   31    2    3\n",
       "6          3    2   31   14   22    9  915    1    1    2\n",
       "7         13    0   54   17  129   58   25  698    3    3\n",
       "8         58   18   26    8   12    5   20    0  837   16\n",
       "9         59   59   22   14    6   10   30    8   29  763"
      ]
     },
     "execution_count": 32,
     "metadata": {},
     "output_type": "execute_result"
    }
   ],
   "source": [
    "import pandas as pd\n",
    "print(label_dict)\n",
    "pd.crosstab(y_label_test.reshape(-1),prediction,rownames=['label'],colnames=['predict'])"
   ]
  },
  {
   "cell_type": "markdown",
   "metadata": {},
   "source": [
    "## 9 建立三次卷积运算神经网络"
   ]
  },
  {
   "cell_type": "code",
   "execution_count": 33,
   "metadata": {
    "collapsed": true
   },
   "outputs": [],
   "source": [
    "model_2=Sequential()"
   ]
  },
  {
   "cell_type": "code",
   "execution_count": 34,
   "metadata": {
    "collapsed": true
   },
   "outputs": [],
   "source": [
    "#建立卷积层1与池化层1\n",
    "model_2.add(Conv2D(filters=32,kernel_size=(3,3),input_shape=(32,32,3),\n",
    "                  activation='relu',padding='same'))\n",
    "model_2.add(Dropout(0.3))\n",
    "#增加Conv2D层\n",
    "model_2.add(Conv2D(filters=64,kernel_size=(3,3),\n",
    "                activation='relu',padding='same'))\n",
    "model_2.add(MaxPool2D(pool_size=(2,2)))"
   ]
  },
  {
   "cell_type": "code",
   "execution_count": 35,
   "metadata": {
    "collapsed": true
   },
   "outputs": [],
   "source": [
    "#建立卷积层2与池化层2\n",
    "model_2.add(Conv2D(filters=64,kernel_size=(3,3),\n",
    "                  activation='relu',padding='same'))\n",
    "model_2.add(Dropout(0.3))\n",
    "#增加Conv2D层\n",
    "model_2.add(Conv2D(filters=64,kernel_size=(3,3),\n",
    "                  activation='relu',padding='same'))\n",
    "model_2.add(MaxPool2D(pool_size=(2,2)))"
   ]
  },
  {
   "cell_type": "code",
   "execution_count": 36,
   "metadata": {
    "collapsed": true
   },
   "outputs": [],
   "source": [
    "#新增卷积层3与池化层3\n",
    "model_2.add(Conv2D(filters=128,kernel_size=(3,3),\n",
    "                  activation='relu',padding='same'))\n",
    "model_2.add(Dropout(0.3))\n",
    "model_2.add(Conv2D(filters=128,kernel_size=(3,3),\n",
    "                  activation='relu',padding='same'))\n",
    "model_2.add(MaxPool2D(pool_size=(2,2)))"
   ]
  },
  {
   "cell_type": "code",
   "execution_count": 37,
   "metadata": {
    "collapsed": true
   },
   "outputs": [],
   "source": [
    "#建立神经网络（平坦层、隐藏层1，隐藏层2，输出层）\n",
    "model_2.add(Flatten())\n",
    "model_2.add(Dropout(0.3))\n",
    "model_2.add(Dense(2500,activation='relu'))\n",
    "model_2.add(Dropout(0.3))\n",
    "model_2.add(Dense(1500,activation='relu'))\n",
    "model_2.add(Dropout(0.3))\n",
    "model_2.add(Dense(10,activation='softmax'))"
   ]
  },
  {
   "cell_type": "code",
   "execution_count": 38,
   "metadata": {},
   "outputs": [
    {
     "name": "stdout",
     "output_type": "stream",
     "text": [
      "_________________________________________________________________\n",
      "Layer (type)                 Output Shape              Param #   \n",
      "=================================================================\n",
      "conv2d_3 (Conv2D)            (None, 32, 32, 32)        896       \n",
      "_________________________________________________________________\n",
      "dropout_5 (Dropout)          (None, 32, 32, 32)        0         \n",
      "_________________________________________________________________\n",
      "conv2d_4 (Conv2D)            (None, 32, 32, 64)        18496     \n",
      "_________________________________________________________________\n",
      "max_pooling2d_3 (MaxPooling2 (None, 16, 16, 64)        0         \n",
      "_________________________________________________________________\n",
      "conv2d_5 (Conv2D)            (None, 16, 16, 64)        36928     \n",
      "_________________________________________________________________\n",
      "dropout_6 (Dropout)          (None, 16, 16, 64)        0         \n",
      "_________________________________________________________________\n",
      "conv2d_6 (Conv2D)            (None, 16, 16, 64)        36928     \n",
      "_________________________________________________________________\n",
      "max_pooling2d_4 (MaxPooling2 (None, 8, 8, 64)          0         \n",
      "_________________________________________________________________\n",
      "conv2d_7 (Conv2D)            (None, 8, 8, 128)         73856     \n",
      "_________________________________________________________________\n",
      "dropout_7 (Dropout)          (None, 8, 8, 128)         0         \n",
      "_________________________________________________________________\n",
      "conv2d_8 (Conv2D)            (None, 8, 8, 128)         147584    \n",
      "_________________________________________________________________\n",
      "max_pooling2d_5 (MaxPooling2 (None, 4, 4, 128)         0         \n",
      "_________________________________________________________________\n",
      "flatten_2 (Flatten)          (None, 2048)              0         \n",
      "_________________________________________________________________\n",
      "dropout_8 (Dropout)          (None, 2048)              0         \n",
      "_________________________________________________________________\n",
      "dense_3 (Dense)              (None, 2500)              5122500   \n",
      "_________________________________________________________________\n",
      "dropout_9 (Dropout)          (None, 2500)              0         \n",
      "_________________________________________________________________\n",
      "dense_4 (Dense)              (None, 1500)              3751500   \n",
      "_________________________________________________________________\n",
      "dropout_10 (Dropout)         (None, 1500)              0         \n",
      "_________________________________________________________________\n",
      "dense_5 (Dense)              (None, 10)                15010     \n",
      "=================================================================\n",
      "Total params: 9,203,698\n",
      "Trainable params: 9,203,698\n",
      "Non-trainable params: 0\n",
      "_________________________________________________________________\n",
      "None\n"
     ]
    }
   ],
   "source": [
    "print(model_2.summary())"
   ]
  },
  {
   "cell_type": "code",
   "execution_count": 39,
   "metadata": {
    "collapsed": true
   },
   "outputs": [],
   "source": [
    "#定义训练方式\n",
    "model_2.compile(loss='categorical_crossentropy',  #设置损失函数，在深度学习中使用cross_entropy(交叉熵)训练的效果比较好。\n",
    "              optimizer='adam',         #设置训练时，在深度学习中使用adam优化器可以让训练更快收敛，并提高准确率。\n",
    "              metrics=['accuracy'])    #设置评估模型的方式是准确率"
   ]
  },
  {
   "cell_type": "code",
   "execution_count": 40,
   "metadata": {},
   "outputs": [
    {
     "name": "stdout",
     "output_type": "stream",
     "text": [
      "加载模型失败！开始训练一个新模型\n"
     ]
    }
   ],
   "source": [
    "#执行训练前，先使用model.load_weights加载模型权重\n",
    "try:\n",
    "    model_2.load_weights(\"SaveModel/cifarCnnModel_2.h5\")\n",
    "    print(\"加载模型成功！继续训练模型\")\n",
    "except:\n",
    "    print(\"加载模型失败！开始训练一个新模型\")"
   ]
  },
  {
   "cell_type": "code",
   "execution_count": 56,
   "metadata": {},
   "outputs": [
    {
     "name": "stdout",
     "output_type": "stream",
     "text": [
      "Train on 40000 samples, validate on 10000 samples\n",
      "Epoch 1/10\n",
      "40000/40000 [==============================] - 634s 16ms/step - loss: 0.8862 - acc: 0.6885 - val_loss: 0.9044 - val_acc: 0.6854\n",
      "Epoch 2/10\n",
      "40000/40000 [==============================] - 653s 16ms/step - loss: 0.8034 - acc: 0.7173 - val_loss: 0.7872 - val_acc: 0.7310\n",
      "Epoch 3/10\n",
      "40000/40000 [==============================] - 664s 17ms/step - loss: 0.7344 - acc: 0.7398 - val_loss: 0.7487 - val_acc: 0.7343\n",
      "Epoch 4/10\n",
      "40000/40000 [==============================] - 663s 17ms/step - loss: 0.6708 - acc: 0.7633 - val_loss: 0.6746 - val_acc: 0.7660\n",
      "Epoch 5/10\n",
      "40000/40000 [==============================] - 655s 16ms/step - loss: 0.6343 - acc: 0.7763 - val_loss: 0.6738 - val_acc: 0.7650\n",
      "Epoch 6/10\n",
      "40000/40000 [==============================] - 671s 17ms/step - loss: 0.6009 - acc: 0.7884 - val_loss: 0.6497 - val_acc: 0.7775\n",
      "Epoch 7/10\n",
      "40000/40000 [==============================] - 663s 17ms/step - loss: 0.5571 - acc: 0.8024 - val_loss: 0.6767 - val_acc: 0.7689\n",
      "Epoch 8/10\n",
      "40000/40000 [==============================] - 662s 17ms/step - loss: 0.5340 - acc: 0.8107 - val_loss: 0.6218 - val_acc: 0.7931\n",
      "Epoch 9/10\n",
      "40000/40000 [==============================] - 645s 16ms/step - loss: 0.4967 - acc: 0.8234 - val_loss: 0.6646 - val_acc: 0.7763\n",
      "Epoch 10/10\n",
      "40000/40000 [==============================] - 653s 16ms/step - loss: 0.4815 - acc: 0.8294 - val_loss: 0.6362 - val_acc: 0.7854\n"
     ]
    }
   ],
   "source": [
    "#训练模型\n",
    "train_history_2=model_2.fit(x_img_train_normalize,y_lable_train_OneHot,\n",
    "                           validation_split=0.2,\n",
    "                           epochs=10,batch_size=128,verbose=1)"
   ]
  },
  {
   "cell_type": "code",
   "execution_count": 57,
   "metadata": {},
   "outputs": [
    {
     "data": {
      "image/png": "[encoded data removed]",
      "text/plain": [
       "<matplotlib.figure.Figure at 0x18407940>"
      ]
     },
     "metadata": {},
     "output_type": "display_data"
    }
   ],
   "source": [
    "show_train_history(train_history_2,'acc','val_acc')"
   ]
  },
  {
   "cell_type": "code",
   "execution_count": 58,
   "metadata": {},
   "outputs": [
    {
     "data": {
      "image/png": "[encoded data removed]",
      "text/plain": [
       "<matplotlib.figure.Figure at 0x29e61e80>"
      ]
     },
     "metadata": {},
     "output_type": "display_data"
    }
   ],
   "source": [
    "show_train_history(train_history,'loss','val_loss')"
   ]
  },
  {
   "cell_type": "code",
   "execution_count": 59,
   "metadata": {
    "collapsed": true
   },
   "outputs": [],
   "source": [
    "scores2 = model_2.evaluate(x_img_test_normalize,\n",
    "                       y_label_test_OneGot,verbose=0)"
   ]
  },
  {
   "cell_type": "code",
   "execution_count": 60,
   "metadata": {},
   "outputs": [
    {
     "data": {
      "text/plain": [
       "0.7815"
      ]
     },
     "execution_count": 60,
     "metadata": {},
     "output_type": "execute_result"
    }
   ],
   "source": [
    "scores2[1]"
   ]
  },
  {
   "cell_type": "code",
   "execution_count": 61,
   "metadata": {
    "collapsed": true
   },
   "outputs": [],
   "source": [
    "prediction2=model_2.predict_classes(x_img_test_normalize)"
   ]
  },
  {
   "cell_type": "code",
   "execution_count": 62,
   "metadata": {
    "collapsed": true
   },
   "outputs": [],
   "source": [
    "Predicted_Probability2=model_2.predict(x_img_test_normalize)"
   ]
  },
  {
   "cell_type": "code",
   "execution_count": 63,
   "metadata": {},
   "outputs": [
    {
     "name": "stdout",
     "output_type": "stream",
     "text": [
      "lable: cat predict cat\n"
     ]
    },
    {
     "data": {
      "image/png": "[encoded data removed]",
      "text/plain": [
       "<matplotlib.figure.Figure at 0x2a343160>"
      ]
     },
     "metadata": {},
     "output_type": "display_data"
    },
    {
     "name": "stdout",
     "output_type": "stream",
     "text": [
      "airplane Probability:0.000075114\n",
      "automobile Probability:0.000425920\n",
      "bird Probability:0.000232925\n",
      "cat Probability:0.866174638\n",
      "deer Probability:0.000037874\n",
      "dog Probability:0.128714710\n",
      "frog Probability:0.001521510\n",
      "horse Probability:0.000080306\n",
      "ship Probability:0.002629254\n",
      "truck Probability:0.000107763\n"
     ]
    }
   ],
   "source": [
    "show_Predicted_Probability(y_label_test,prediction2,\n",
    "                          x_img_test,Predicted_Probability2,0)"
   ]
  },
  {
   "cell_type": "code",
   "execution_count": 64,
   "metadata": {},
   "outputs": [
    {
     "name": "stdout",
     "output_type": "stream",
     "text": [
      "lable: airplane predict airplane\n"
     ]
    },
    {
     "data": {
      "image/png": "[encoded data removed]",
      "text/plain": [
       "<matplotlib.figure.Figure at 0x29e61d68>"
      ]
     },
     "metadata": {},
     "output_type": "display_data"
    },
    {
     "name": "stdout",
     "output_type": "stream",
     "text": [
      "airplane Probability:0.917879701\n",
      "automobile Probability:0.004000374\n",
      "bird Probability:0.010389598\n",
      "cat Probability:0.001793834\n",
      "deer Probability:0.000463038\n",
      "dog Probability:0.000038027\n",
      "frog Probability:0.000113003\n",
      "horse Probability:0.000082971\n",
      "ship Probability:0.065057971\n",
      "truck Probability:0.000181365\n"
     ]
    }
   ],
   "source": [
    "show_Predicted_Probability(y_label_test,prediction2,\n",
    "                          x_img_test,Predicted_Probability2,3)"
   ]
  },
  {
   "cell_type": "code",
   "execution_count": 65,
   "metadata": {},
   "outputs": [
    {
     "name": "stdout",
     "output_type": "stream",
     "text": [
      "{0: 'airplane', 1: 'automobile', 2: 'bird', 3: 'cat', 4: 'deer', 5: 'dog', 6: 'frog', 7: 'horse', 8: 'ship', 9: 'truck'}\n"
     ]
    },
    {
     "data": {
      "text/html": [
       "<div>\n",
       "<style>\n",
       "    .dataframe thead tr:only-child th {\n",
       "        text-align: right;\n",
       "    }\n",
       "\n",
       "    .dataframe thead th {\n",
       "        text-align: left;\n",
       "    }\n",
       "\n",
       "    .dataframe tbody tr th {\n",
       "        vertical-align: top;\n",
       "    }\n",
       "</style>\n",
       "<table border=\"1\" class=\"dataframe\">\n",
       "  <thead>\n",
       "    <tr style=\"text-align: right;\">\n",
       "      <th>predict</th>\n",
       "      <th>0</th>\n",
       "      <th>1</th>\n",
       "      <th>2</th>\n",
       "      <th>3</th>\n",
       "      <th>4</th>\n",
       "      <th>5</th>\n",
       "      <th>6</th>\n",
       "      <th>7</th>\n",
       "      <th>8</th>\n",
       "      <th>9</th>\n",
       "    </tr>\n",
       "    <tr>\n",
       "      <th>label</th>\n",
       "      <th></th>\n",
       "      <th></th>\n",
       "      <th></th>\n",
       "      <th></th>\n",
       "      <th></th>\n",
       "      <th></th>\n",
       "      <th></th>\n",
       "      <th></th>\n",
       "      <th></th>\n",
       "      <th></th>\n",
       "    </tr>\n",
       "  </thead>\n",
       "  <tbody>\n",
       "    <tr>\n",
       "      <th>0</th>\n",
       "      <td>795</td>\n",
       "      <td>17</td>\n",
       "      <td>34</td>\n",
       "      <td>11</td>\n",
       "      <td>25</td>\n",
       "      <td>5</td>\n",
       "      <td>7</td>\n",
       "      <td>12</td>\n",
       "      <td>73</td>\n",
       "      <td>21</td>\n",
       "    </tr>\n",
       "    <tr>\n",
       "      <th>1</th>\n",
       "      <td>4</td>\n",
       "      <td>927</td>\n",
       "      <td>1</td>\n",
       "      <td>4</td>\n",
       "      <td>5</td>\n",
       "      <td>4</td>\n",
       "      <td>2</td>\n",
       "      <td>4</td>\n",
       "      <td>7</td>\n",
       "      <td>42</td>\n",
       "    </tr>\n",
       "    <tr>\n",
       "      <th>2</th>\n",
       "      <td>65</td>\n",
       "      <td>4</td>\n",
       "      <td>681</td>\n",
       "      <td>29</td>\n",
       "      <td>100</td>\n",
       "      <td>35</td>\n",
       "      <td>45</td>\n",
       "      <td>24</td>\n",
       "      <td>12</td>\n",
       "      <td>5</td>\n",
       "    </tr>\n",
       "    <tr>\n",
       "      <th>3</th>\n",
       "      <td>20</td>\n",
       "      <td>7</td>\n",
       "      <td>65</td>\n",
       "      <td>577</td>\n",
       "      <td>84</td>\n",
       "      <td>119</td>\n",
       "      <td>65</td>\n",
       "      <td>45</td>\n",
       "      <td>7</td>\n",
       "      <td>11</td>\n",
       "    </tr>\n",
       "    <tr>\n",
       "      <th>4</th>\n",
       "      <td>13</td>\n",
       "      <td>1</td>\n",
       "      <td>44</td>\n",
       "      <td>35</td>\n",
       "      <td>828</td>\n",
       "      <td>17</td>\n",
       "      <td>16</td>\n",
       "      <td>42</td>\n",
       "      <td>4</td>\n",
       "      <td>0</td>\n",
       "    </tr>\n",
       "    <tr>\n",
       "      <th>5</th>\n",
       "      <td>8</td>\n",
       "      <td>4</td>\n",
       "      <td>37</td>\n",
       "      <td>141</td>\n",
       "      <td>54</td>\n",
       "      <td>666</td>\n",
       "      <td>26</td>\n",
       "      <td>53</td>\n",
       "      <td>5</td>\n",
       "      <td>6</td>\n",
       "    </tr>\n",
       "    <tr>\n",
       "      <th>6</th>\n",
       "      <td>7</td>\n",
       "      <td>0</td>\n",
       "      <td>43</td>\n",
       "      <td>33</td>\n",
       "      <td>48</td>\n",
       "      <td>16</td>\n",
       "      <td>831</td>\n",
       "      <td>12</td>\n",
       "      <td>7</td>\n",
       "      <td>3</td>\n",
       "    </tr>\n",
       "    <tr>\n",
       "      <th>7</th>\n",
       "      <td>11</td>\n",
       "      <td>4</td>\n",
       "      <td>23</td>\n",
       "      <td>24</td>\n",
       "      <td>66</td>\n",
       "      <td>31</td>\n",
       "      <td>3</td>\n",
       "      <td>830</td>\n",
       "      <td>1</td>\n",
       "      <td>7</td>\n",
       "    </tr>\n",
       "    <tr>\n",
       "      <th>8</th>\n",
       "      <td>41</td>\n",
       "      <td>29</td>\n",
       "      <td>12</td>\n",
       "      <td>9</td>\n",
       "      <td>16</td>\n",
       "      <td>2</td>\n",
       "      <td>6</td>\n",
       "      <td>3</td>\n",
       "      <td>855</td>\n",
       "      <td>27</td>\n",
       "    </tr>\n",
       "    <tr>\n",
       "      <th>9</th>\n",
       "      <td>24</td>\n",
       "      <td>95</td>\n",
       "      <td>4</td>\n",
       "      <td>7</td>\n",
       "      <td>6</td>\n",
       "      <td>3</td>\n",
       "      <td>7</td>\n",
       "      <td>14</td>\n",
       "      <td>15</td>\n",
       "      <td>825</td>\n",
       "    </tr>\n",
       "  </tbody>\n",
       "</table>\n",
       "</div>"
      ],
      "text/plain": [
       "predict    0    1    2    3    4    5    6    7    8    9\n",
       "label                                                    \n",
       "0        795   17   34   11   25    5    7   12   73   21\n",
       "1          4  927    1    4    5    4    2    4    7   42\n",
       "2         65    4  681   29  100   35   45   24   12    5\n",
       "3         20    7   65  577   84  119   65   45    7   11\n",
       "4         13    1   44   35  828   17   16   42    4    0\n",
       "5          8    4   37  141   54  666   26   53    5    6\n",
       "6          7    0   43   33   48   16  831   12    7    3\n",
       "7         11    4   23   24   66   31    3  830    1    7\n",
       "8         41   29   12    9   16    2    6    3  855   27\n",
       "9         24   95    4    7    6    3    7   14   15  825"
      ]
     },
     "execution_count": 65,
     "metadata": {},
     "output_type": "execute_result"
    }
   ],
   "source": [
    "print(label_dict)\n",
    "pd.crosstab(y_label_test.reshape(-1),prediction2,rownames=['label'],colnames=['predict'])"
   ]
  },
  {
   "cell_type": "code",
   "execution_count": 66,
   "metadata": {
    "collapsed": true
   },
   "outputs": [],
   "source": [
    "# model_2.save_weight(\"SaveModel/cifarCnnModel_2.h5\")\n",
    "# print(\"Save model to disk\")"
   ]
  },
  {
   "cell_type": "code",
   "execution_count": 67,
   "metadata": {
    "collapsed": true
   },
   "outputs": [],
   "source": [
    "# try:\n",
    "#     model_2.load_weights(\"SaveModel/cifarCnnModel_2.h5\")\n",
    "#     print(\"加载模型成功！继续训练模型\")\n",
    "# except:\n",
    "#     print(\"加载模型失败！开始训练一个新模型\")"
   ]
  }
 ],
 "metadata": {
  "kernelspec": {
   "display_name": "Python 3",
   "language": "python",
   "name": "python3"
  },
  "language_info": {
   "codemirror_mode": {
    "name": "ipython",
    "version": 3
   },
   "file_extension": ".py",
   "mimetype": "text/x-python",
   "name": "python",
   "nbconvert_exporter": "python",
   "pygments_lexer": "ipython3",
   "version": "3.5.3"
  },
  "toc": {
   "base_numbering": "",
   "nav_menu": {},
   "number_sections": false,
   "sideBar": true,
   "skip_h1_title": false,
   "title_cell": "Table of Contents",
   "title_sidebar": "Contents",
   "toc_cell": false,
   "toc_position": {
    "height": "calc(100% - 180px)",
    "left": "10px",
    "top": "150px",
    "width": "293px"
   },
   "toc_section_display": true,
   "toc_window_display": true
  }
 },
 "nbformat": 4,
 "nbformat_minor": 2
}
