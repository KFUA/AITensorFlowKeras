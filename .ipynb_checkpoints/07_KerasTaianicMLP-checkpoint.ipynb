{
 "cells": [
  {
   "cell_type": "markdown",
   "metadata": {},
   "source": [
    "# Keras多层感知器预测泰坦尼克号上旅客的生存概率"
   ]
  },
  {
   "cell_type": "markdown",
   "metadata": {},
   "source": [
    "## 1 数据预处理"
   ]
  },
  {
   "cell_type": "code",
   "execution_count": 90,
   "metadata": {
    "collapsed": true
   },
   "outputs": [],
   "source": [
    "import urllib.request\n",
    "import os\n",
    "import tarfile\n",
    "import numpy\n",
    "import pandas as pd      #pandas为python提供了DataFrame功能，可以很方便的读取数据\n",
    "from sklearn import preprocessing    #sklearn提供preprocessing数据预处理模块"
   ]
  },
  {
   "cell_type": "code",
   "execution_count": 91,
   "metadata": {
    "collapsed": true
   },
   "outputs": [],
   "source": [
    "#读取数据集文件\n",
    "all_df=pd.read_excel(\"data/titanic3.xls\")"
   ]
  },
  {
   "cell_type": "code",
   "execution_count": 92,
   "metadata": {
    "collapsed": true
   },
   "outputs": [],
   "source": [
    "#添加需要的字段到DataFrame中\n",
    "cols=['survived','name','pclass','sex','age','sibsp','parch','fare','embarked']\n",
    "all_df=all_df[cols]"
   ]
  },
  {
   "cell_type": "code",
   "execution_count": 93,
   "metadata": {
    "collapsed": true
   },
   "outputs": [],
   "source": [
    "msk = numpy.random.rand(len(all_df)) < 0.8     #按8:2的比例使用numpy.random.rand产生msk\n",
    "train_df = all_df[msk]                       #产生训练数据，为全部数据的80%\n",
    "test_df = all_df[~msk]                       #产生测试数据，为全部数据的20%"
   ]
  },
  {
   "cell_type": "code",
   "execution_count": 94,
   "metadata": {},
   "outputs": [
    {
     "name": "stdout",
     "output_type": "stream",
     "text": [
      "total: 1309 train: 1049 test: 260\n"
     ]
    }
   ],
   "source": [
    "#显示训练数据与测试数据的项数\n",
    "print('total:',len(all_df),\n",
    "     'train:',len(train_df),\n",
    "     'test:',len(test_df))"
   ]
  },
  {
   "cell_type": "code",
   "execution_count": 95,
   "metadata": {
    "collapsed": true
   },
   "outputs": [],
   "source": [
    "#创建PreprocessData函数进行数据的预处理\n",
    "def PreprocessData(raw_df):\n",
    "    #将字段为null的数据替换成平均值\n",
    "    df=raw_df.drop(['name'],axis=1)\n",
    "    age_mean = df['age'].mean()\n",
    "    df['age'] = df['age'].fillna(age_mean)\n",
    "    fare_mean = df['fare'].mean()\n",
    "    df['fare'] = df['fare'].fillna(fare_mean)\n",
    "    #转换性别字段\n",
    "    df['sex']=df['sex'].map({'female':0,'male':1}).astype(int)\n",
    "    \n",
    "    #将embarked字段进行一维有效编码转换\n",
    "    x_OneHot_df=pd.get_dummies(data=df,columns=[\"embarked\"])   #data表示要转换的DataFrame,columns表示要转换的字段\n",
    "    #将DataFrame转换为Array\n",
    "    ndarray = x_OneHot_df.values\n",
    "    #提取features与label\n",
    "    Label=ndarray[:,0]            #':'表示提取所有项数，'0'提取第0个字段\n",
    "    Features=ndarray[:,1:]        #':'表示提取所有项数，'1:'提取第1至最后字段，是特征字段 \n",
    "    \n",
    "    minmax_scale = preprocessing.MinMaxScaler(feature_range=(0,1))  #设置标准化之后的范围在0与1之间\n",
    "    scaledFeatures = minmax_scale.fit_transform(Features)    #传入参数Features（特征字段）进行标准化\n",
    "    \n",
    "    return scaledFeatures,Label"
   ]
  },
  {
   "cell_type": "code",
   "execution_count": 96,
   "metadata": {
    "collapsed": true
   },
   "outputs": [],
   "source": [
    "train_Feature,train_Label=PreprocessData(train_df)\n",
    "test_Feature,test_Label=PreprocessData(test_df)"
   ]
  },
  {
   "cell_type": "markdown",
   "metadata": {},
   "source": [
    "## 2 建立模型"
   ]
  },
  {
   "cell_type": "code",
   "execution_count": 97,
   "metadata": {
    "collapsed": true
   },
   "outputs": [],
   "source": [
    "#导入模块\n",
    "from keras.models import Sequential\n",
    "from keras.layers import Dense,Dropout"
   ]
  },
  {
   "cell_type": "code",
   "execution_count": 98,
   "metadata": {
    "collapsed": true
   },
   "outputs": [],
   "source": [
    "#建立线性堆叠模型\n",
    "model =Sequential()"
   ]
  },
  {
   "cell_type": "code",
   "execution_count": 99,
   "metadata": {
    "collapsed": true
   },
   "outputs": [],
   "source": [
    "#建立输入层与隐藏层\n",
    "model.add(Dense(units=40,input_dim=9,           #输出是“隐藏层1”共有40个神经单元，输入层为9个神经单元\n",
    "               kernel_initializer='uniform',    #随机初始化weight与bias\n",
    "               activation='relu'))              #定义激活函数"
   ]
  },
  {
   "cell_type": "code",
   "execution_count": 100,
   "metadata": {
    "collapsed": true
   },
   "outputs": [],
   "source": [
    "#建立隐藏层2\n",
    "model.add(Dense(units=30,\n",
    "               kernel_initializer='uniform',\n",
    "               activation='relu'))"
   ]
  },
  {
   "cell_type": "code",
   "execution_count": 101,
   "metadata": {
    "collapsed": true
   },
   "outputs": [],
   "source": [
    "#建立输出层\n",
    "model.add(Dense(units=1,\n",
    "               kernel_initializer='uniform',\n",
    "               activation='sigmoid'))"
   ]
  },
  {
   "cell_type": "markdown",
   "metadata": {},
   "source": [
    "## 3 进行训练"
   ]
  },
  {
   "cell_type": "code",
   "execution_count": 102,
   "metadata": {
    "collapsed": true
   },
   "outputs": [],
   "source": [
    "#定义训练方式\n",
    "model.compile(loss='binary_crossentropy',  #设置损失函数，此处为‘binary_crossentropy’,用于二分类。\n",
    "              optimizer='adam',         #设置训练时，在深度学习中使用adam优化器可以让训练更快收敛，并提高准确率。\n",
    "              metrics=['accuracy'])    #设置评估模型的方式是准确率"
   ]
  },
  {
   "cell_type": "code",
   "execution_count": 103,
   "metadata": {},
   "outputs": [
    {
     "data": {
      "text/plain": [
       "array([1., 0.])"
      ]
     },
     "execution_count": 103,
     "metadata": {},
     "output_type": "execute_result"
    }
   ],
   "source": [
    "train_Label[:2]"
   ]
  },
  {
   "cell_type": "code",
   "execution_count": 104,
   "metadata": {},
   "outputs": [
    {
     "name": "stdout",
     "output_type": "stream",
     "text": [
      "Train on 944 samples, validate on 105 samples\n",
      "Epoch 1/30\n",
      " - 0s - loss: 0.6887 - acc: 0.5943 - val_loss: 0.6566 - val_acc: 0.8190\n",
      "Epoch 2/30\n",
      " - 0s - loss: 0.6575 - acc: 0.5953 - val_loss: 0.5376 - val_acc: 0.8190\n",
      "Epoch 3/30\n",
      " - 0s - loss: 0.6064 - acc: 0.6578 - val_loss: 0.4595 - val_acc: 0.8476\n",
      "Epoch 4/30\n",
      " - 0s - loss: 0.5558 - acc: 0.7489 - val_loss: 0.4155 - val_acc: 0.7905\n",
      "Epoch 5/30\n",
      " - 0s - loss: 0.5215 - acc: 0.7680 - val_loss: 0.3913 - val_acc: 0.8286\n",
      "Epoch 6/30\n",
      " - 0s - loss: 0.5012 - acc: 0.7691 - val_loss: 0.3616 - val_acc: 0.8286\n",
      "Epoch 7/30\n",
      " - 0s - loss: 0.4916 - acc: 0.7744 - val_loss: 0.3758 - val_acc: 0.8286\n",
      "Epoch 8/30\n",
      " - 0s - loss: 0.4870 - acc: 0.7712 - val_loss: 0.3695 - val_acc: 0.8286\n",
      "Epoch 9/30\n",
      " - 0s - loss: 0.4803 - acc: 0.7765 - val_loss: 0.3500 - val_acc: 0.8667\n",
      "Epoch 10/30\n",
      " - 0s - loss: 0.4771 - acc: 0.7712 - val_loss: 0.3482 - val_acc: 0.8667\n",
      "Epoch 11/30\n",
      " - 0s - loss: 0.4746 - acc: 0.7754 - val_loss: 0.3345 - val_acc: 0.8667\n",
      "Epoch 12/30\n",
      " - 0s - loss: 0.4725 - acc: 0.7797 - val_loss: 0.3480 - val_acc: 0.8667\n",
      "Epoch 13/30\n",
      " - 0s - loss: 0.4724 - acc: 0.7691 - val_loss: 0.3286 - val_acc: 0.8762\n",
      "Epoch 14/30\n",
      " - 0s - loss: 0.4693 - acc: 0.7839 - val_loss: 0.3408 - val_acc: 0.8667\n",
      "Epoch 15/30\n",
      " - 0s - loss: 0.4674 - acc: 0.7818 - val_loss: 0.3272 - val_acc: 0.8762\n",
      "Epoch 16/30\n",
      " - 0s - loss: 0.4651 - acc: 0.7818 - val_loss: 0.3274 - val_acc: 0.9048\n",
      "Epoch 17/30\n",
      " - 0s - loss: 0.4649 - acc: 0.7903 - val_loss: 0.3349 - val_acc: 0.8762\n",
      "Epoch 18/30\n",
      " - 0s - loss: 0.4644 - acc: 0.7839 - val_loss: 0.3248 - val_acc: 0.9048\n",
      "Epoch 19/30\n",
      " - 0s - loss: 0.4611 - acc: 0.7913 - val_loss: 0.3331 - val_acc: 0.8762\n",
      "Epoch 20/30\n",
      " - 0s - loss: 0.4610 - acc: 0.7850 - val_loss: 0.3254 - val_acc: 0.8952\n",
      "Epoch 21/30\n",
      " - 0s - loss: 0.4599 - acc: 0.7977 - val_loss: 0.3212 - val_acc: 0.8952\n",
      "Epoch 22/30\n",
      " - 0s - loss: 0.4591 - acc: 0.7903 - val_loss: 0.3268 - val_acc: 0.8952\n",
      "Epoch 23/30\n",
      " - 0s - loss: 0.4574 - acc: 0.7977 - val_loss: 0.3219 - val_acc: 0.8857\n",
      "Epoch 24/30\n",
      " - 0s - loss: 0.4583 - acc: 0.7924 - val_loss: 0.3383 - val_acc: 0.8667\n",
      "Epoch 25/30\n",
      " - 0s - loss: 0.4574 - acc: 0.7892 - val_loss: 0.3165 - val_acc: 0.8476\n",
      "Epoch 26/30\n",
      " - 0s - loss: 0.4572 - acc: 0.8019 - val_loss: 0.3234 - val_acc: 0.8952\n",
      "Epoch 27/30\n",
      " - 0s - loss: 0.4556 - acc: 0.7987 - val_loss: 0.3253 - val_acc: 0.8857\n",
      "Epoch 28/30\n",
      " - 0s - loss: 0.4548 - acc: 0.7987 - val_loss: 0.3253 - val_acc: 0.8952\n",
      "Epoch 29/30\n",
      " - 0s - loss: 0.4549 - acc: 0.7956 - val_loss: 0.3235 - val_acc: 0.8952\n",
      "Epoch 30/30\n",
      " - 0s - loss: 0.4546 - acc: 0.7977 - val_loss: 0.3276 - val_acc: 0.8952\n"
     ]
    }
   ],
   "source": [
    "#开始训练\n",
    "train_history = model.fit(x=train_Feature,\n",
    "                         y=train_Label,\n",
    "                         validation_split=0.1,\n",
    "                         epochs=30,\n",
    "                         batch_size=30,verbose=2)"
   ]
  },
  {
   "cell_type": "code",
   "execution_count": 105,
   "metadata": {
    "collapsed": true
   },
   "outputs": [],
   "source": [
    "#画出准确率执行结果\n",
    "import matplotlib.pyplot as plt\n",
    "def show_train_history(train_history,train,validation):   #train表示训练数据的执行结果，validation表示验证数据的执行结果\n",
    "    plt.plot(train_history.history[train])\n",
    "    plt.plot(train_history.history[validation])\n",
    "    plt.title('Train History')                 #显示图的标题\n",
    "    plt.ylabel(train)                          #显示y轴的标签\n",
    "    plt.xlabel('Epoch')                        #设置x轴的标签为‘Epoch’       \n",
    "    plt.legend(['train','validation'],loc='upper left')     #设置图例是显示‘train’与‘validation’，位置在左上角\n",
    "    plt.show()"
   ]
  },
  {
   "cell_type": "code",
   "execution_count": 106,
   "metadata": {},
   "outputs": [
    {
     "data": {
      "image/png": "[encoded data removed]",
      "text/plain": [
       "<matplotlib.figure.Figure at 0x1ae592b0>"
      ]
     },
     "metadata": {},
     "output_type": "display_data"
    }
   ],
   "source": [
    "show_train_history(train_history,'acc','val_acc')"
   ]
  },
  {
   "cell_type": "code",
   "execution_count": 107,
   "metadata": {},
   "outputs": [
    {
     "data": {
      "image/png": "[encoded data removed]",
      "text/plain": [
       "<matplotlib.figure.Figure at 0x119d49e8>"
      ]
     },
     "metadata": {},
     "output_type": "display_data"
    }
   ],
   "source": [
    "#画出误差执行结果\n",
    "show_train_history(train_history,'loss','val_loss')"
   ]
  },
  {
   "cell_type": "markdown",
   "metadata": {},
   "source": [
    "## 4 评估模型准确率"
   ]
  },
  {
   "cell_type": "code",
   "execution_count": 108,
   "metadata": {},
   "outputs": [
    {
     "name": "stdout",
     "output_type": "stream",
     "text": [
      "260/260 [==============================] - 0s 27us/step\n"
     ]
    }
   ],
   "source": [
    "scores =model.evaluate(x=test_Feature,\n",
    "                       y=test_Label)"
   ]
  },
  {
   "cell_type": "code",
   "execution_count": 109,
   "metadata": {},
   "outputs": [
    {
     "data": {
      "text/plain": [
       "0.7846153846153846"
      ]
     },
     "execution_count": 109,
     "metadata": {},
     "output_type": "execute_result"
    }
   ],
   "source": [
    "#查看评估的准确率\n",
    "scores[1]"
   ]
  }
 ],
 "metadata": {
  "kernelspec": {
   "display_name": "Python 3",
   "language": "python",
   "name": "python3"
  },
  "language_info": {
   "codemirror_mode": {
    "name": "ipython",
    "version": 3
   },
   "file_extension": ".py",
   "mimetype": "text/x-python",
   "name": "python",
   "nbconvert_exporter": "python",
   "pygments_lexer": "ipython3",
   "version": "3.5.3"
  },
  "toc": {
   "base_numbering": "",
   "nav_menu": {},
   "number_sections": false,
   "sideBar": true,
   "skip_h1_title": false,
   "title_cell": "Table of Contents",
   "title_sidebar": "Contents",
   "toc_cell": false,
   "toc_position": {},
   "toc_section_display": true,
   "toc_window_display": true
  }
 },
 "nbformat": 4,
 "nbformat_minor": 2
}
