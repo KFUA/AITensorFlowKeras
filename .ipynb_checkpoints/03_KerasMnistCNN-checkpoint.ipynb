{
 "cells": [
  {
   "cell_type": "markdown",
   "metadata": {},
   "source": [
    "# Keras卷积神经网络识别手写数据"
   ]
  },
  {
   "cell_type": "markdown",
   "metadata": {},
   "source": [
    "## 1 卷积神经网络介绍"
   ]
  },
  {
   "cell_type": "markdown",
   "metadata": {
    "collapsed": true
   },
   "source": [
    "卷积神经网络与多层感知器的差异是：卷积神经网络增加了多层的卷积层和池化层来提取图像特征"
   ]
  },
  {
   "cell_type": "markdown",
   "metadata": {},
   "source": [
    "输入层：输入的图像是28x28的图像。"
   ]
  },
  {
   "cell_type": "markdown",
   "metadata": {},
   "source": [
    "第1次卷积运算：输入的数字图像大小为28x28，使用随机产生的5x5过滤器进行卷积运算，卷积运算并不会改变图像大小，处理后的图像大小仍然是28x28。总共会随机产生16个过滤器，也就是说会产生16个图像，每个图像提取不同的特征。"
   ]
  },
  {
   "cell_type": "markdown",
   "metadata": {},
   "source": [
    "第1次缩减采样（池化）：使用Max-Pool缩减采样，将16个28x28的图像缩小为16个14x14的图像，但是图像的数量仍为16个"
   ]
  },
  {
   "cell_type": "markdown",
   "metadata": {},
   "source": [
    "第2次卷积运算：将原本16个图像转换为36个图像，卷积运算不会改变图像大小，仍为14x14"
   ]
  },
  {
   "cell_type": "markdown",
   "metadata": {},
   "source": [
    "第2次缩减采样（池化）：将36个14x14的图像缩小为36个7x7的图像"
   ]
  },
  {
   "cell_type": "markdown",
   "metadata": {},
   "source": [
    "平坦层：将36个7x7的图像以reshape转换为一维向量，长度为36x7x7=1764,也就是1764个float数，作为神经元的输入"
   ]
  },
  {
   "cell_type": "markdown",
   "metadata": {},
   "source": [
    "隐藏层：共128个神经元"
   ]
  },
  {
   "cell_type": "markdown",
   "metadata": {},
   "source": [
    "输出层：共有10个神经元，对应0~9十个数字"
   ]
  },
  {
   "cell_type": "markdown",
   "metadata": {},
   "source": [
    "建立CNN模型的步骤与建立MLP类似"
   ]
  },
  {
   "cell_type": "markdown",
   "metadata": {},
   "source": [
    "## 2 数据预处理"
   ]
  },
  {
   "cell_type": "markdown",
   "metadata": {},
   "source": [
    "### 2.1 导入模块"
   ]
  },
  {
   "cell_type": "code",
   "execution_count": 1,
   "metadata": {},
   "outputs": [
    {
     "name": "stderr",
     "output_type": "stream",
     "text": [
      "D:\\Python\\envs\\tensorFlow\\lib\\site-packages\\h5py\\__init__.py:34: FutureWarning: Conversion of the second argument of issubdtype from `float` to `np.floating` is deprecated. In future, it will be treated as `np.float64 == np.dtype(float).type`.\n",
      "  from ._conv import register_converters as _register_converters\n",
      "Using TensorFlow backend.\n"
     ]
    }
   ],
   "source": [
    "from keras.datasets import mnist\n",
    "from keras.utils import np_utils\n",
    "import numpy as np\n",
    "np.random.seed(10)  #设置seed可以产生随机数"
   ]
  },
  {
   "cell_type": "markdown",
   "metadata": {},
   "source": [
    "### 2.2 读取MNIST数据"
   ]
  },
  {
   "cell_type": "code",
   "execution_count": 2,
   "metadata": {
    "collapsed": true
   },
   "outputs": [],
   "source": [
    "(x_Train,y_Train),(x_Test,y_Test) = mnist.load_data()"
   ]
  },
  {
   "cell_type": "markdown",
   "metadata": {},
   "source": [
    "### 2.3 将features(数字图像特征)转换为四维矩阵"
   ]
  },
  {
   "cell_type": "markdown",
   "metadata": {},
   "source": [
    "将features以reshape转换为6000x28x28x1的4维矩阵，1代表单色"
   ]
  },
  {
   "cell_type": "code",
   "execution_count": 3,
   "metadata": {
    "collapsed": true
   },
   "outputs": [],
   "source": [
    "x_Train4D=x_Train.reshape(x_Train.shape[0],28,28,1).astype('float32')\n",
    "x_Test4D=x_Test.reshape(x_Test.shape[0],28,28,1).astype('float32')"
   ]
  },
  {
   "cell_type": "markdown",
   "metadata": {},
   "source": [
    "### 2.4 标准化"
   ]
  },
  {
   "cell_type": "code",
   "execution_count": 4,
   "metadata": {
    "collapsed": true
   },
   "outputs": [],
   "source": [
    "x_Train4D_normalize = x_Train4D/255\n",
    "x_Test4D_normalize = x_Test4D/255"
   ]
  },
  {
   "cell_type": "markdown",
   "metadata": {},
   "source": [
    "### 2.5 lable以One-Hot Encoding进行转换"
   ]
  },
  {
   "cell_type": "code",
   "execution_count": 5,
   "metadata": {
    "collapsed": true
   },
   "outputs": [],
   "source": [
    "y_TrainOneHot = np_utils.to_categorical(y_Train)\n",
    "y_TestOneHot = np_utils.to_categorical(y_Test)"
   ]
  },
  {
   "cell_type": "markdown",
   "metadata": {},
   "source": [
    "## 3 建立模型"
   ]
  },
  {
   "cell_type": "markdown",
   "metadata": {},
   "source": [
    "### 3.1 导入所需模块"
   ]
  },
  {
   "cell_type": "code",
   "execution_count": 6,
   "metadata": {
    "collapsed": true
   },
   "outputs": [],
   "source": [
    "from keras.models import Sequential\n",
    "from keras.layers import Dense,Dropout,Flatten,Conv2D,MaxPool2D"
   ]
  },
  {
   "cell_type": "markdown",
   "metadata": {},
   "source": [
    "### 3.2 建立Sequential()模型"
   ]
  },
  {
   "cell_type": "code",
   "execution_count": 7,
   "metadata": {
    "collapsed": true
   },
   "outputs": [],
   "source": [
    "model=Sequential()"
   ]
  },
  {
   "cell_type": "markdown",
   "metadata": {},
   "source": [
    "### 3.3 建立卷积层1与池化层1"
   ]
  },
  {
   "cell_type": "code",
   "execution_count": 8,
   "metadata": {
    "collapsed": true
   },
   "outputs": [],
   "source": [
    "#建立卷积层1\n",
    "model.add(Conv2D(filters=16,                   #16个过滤器\n",
    "                kernel_size=(5,5),             #过滤器大小为5x5\n",
    "                padding='same',                #通过填充设置，让卷积运算产生的图像大小不变\n",
    "                input_shape=(28,28,1),         #1，2维表示图像形状为28x28，第三维因为是单色灰色图像，故为1\n",
    "                activation='relu'))            #设置ReLU激活函数"
   ]
  },
  {
   "cell_type": "code",
   "execution_count": 9,
   "metadata": {
    "collapsed": true
   },
   "outputs": [],
   "source": [
    "#建立池化层1\n",
    "model.add(MaxPool2D(pool_size=(2,2)))        #执行第一次缩减采样，将16个28x28的图像缩小为16个14x14的图像"
   ]
  },
  {
   "cell_type": "markdown",
   "metadata": {},
   "source": [
    "### 3.4 建立卷积层2和池化层2"
   ]
  },
  {
   "cell_type": "code",
   "execution_count": 10,
   "metadata": {
    "collapsed": true
   },
   "outputs": [],
   "source": [
    "#建立卷积层2\n",
    "model.add(Conv2D(filters=36,                    #建立36个过滤器\n",
    "                kernel_size=(5,5),              #过滤器大小为5x5\n",
    "                padding='same',                 #卷积运算后图像大小不变\n",
    "                activation='relu'))             #设置Relu激活函数"
   ]
  },
  {
   "cell_type": "code",
   "execution_count": 11,
   "metadata": {
    "collapsed": true
   },
   "outputs": [],
   "source": [
    "#建立池化层2，并加入Dropout避免过渡拟合\n",
    "model.add(MaxPool2D(pool_size=(2,2)))\n",
    "model.add(Dropout(0.25))                   #每次训练迭代时，会随机在神经网络放弃25%的神经元"
   ]
  },
  {
   "cell_type": "markdown",
   "metadata": {},
   "source": [
    "### 3.5 建立神经网络（平坦层、隐藏层、输出层）"
   ]
  },
  {
   "cell_type": "code",
   "execution_count": 12,
   "metadata": {
    "collapsed": true
   },
   "outputs": [],
   "source": [
    "#建立平坦层\n",
    "model.add(Flatten())                    #已经建立的池化层2，共有36个7x7的图像，转换为一维向量，长度是36x7x7=1764\n",
    "\n",
    "#建立隐藏层\n",
    "model.add(Dense(128,activation='relu'))   #共128个神经元\n",
    "model.add(Dropout(0.5))                   #随机的在神经网络中放弃50%的神经元，以避免过拟合\n",
    "\n",
    "#建立输出层\n",
    "model.add(Dense(10,activation='softmax'))"
   ]
  },
  {
   "cell_type": "markdown",
   "metadata": {},
   "source": [
    "### 3.6 查看模型的摘要"
   ]
  },
  {
   "cell_type": "code",
   "execution_count": 13,
   "metadata": {},
   "outputs": [
    {
     "name": "stdout",
     "output_type": "stream",
     "text": [
      "_________________________________________________________________\n",
      "Layer (type)                 Output Shape              Param #   \n",
      "=================================================================\n",
      "conv2d_1 (Conv2D)            (None, 28, 28, 16)        416       \n",
      "_________________________________________________________________\n",
      "max_pooling2d_1 (MaxPooling2 (None, 14, 14, 16)        0         \n",
      "_________________________________________________________________\n",
      "conv2d_2 (Conv2D)            (None, 14, 14, 36)        14436     \n",
      "_________________________________________________________________\n",
      "max_pooling2d_2 (MaxPooling2 (None, 7, 7, 36)          0         \n",
      "_________________________________________________________________\n",
      "dropout_1 (Dropout)          (None, 7, 7, 36)          0         \n",
      "_________________________________________________________________\n",
      "flatten_1 (Flatten)          (None, 1764)              0         \n",
      "_________________________________________________________________\n",
      "dense_1 (Dense)              (None, 128)               225920    \n",
      "_________________________________________________________________\n",
      "dropout_2 (Dropout)          (None, 128)               0         \n",
      "_________________________________________________________________\n",
      "dense_2 (Dense)              (None, 10)                1290      \n",
      "=================================================================\n",
      "Total params: 242,062\n",
      "Trainable params: 242,062\n",
      "Non-trainable params: 0\n",
      "_________________________________________________________________\n",
      "None\n"
     ]
    }
   ],
   "source": [
    "print(model.summary())"
   ]
  },
  {
   "cell_type": "markdown",
   "metadata": {},
   "source": [
    "## 4 进行训练"
   ]
  },
  {
   "cell_type": "markdown",
   "metadata": {},
   "source": [
    "### 4.1 定义训练方式"
   ]
  },
  {
   "cell_type": "code",
   "execution_count": 14,
   "metadata": {
    "collapsed": true
   },
   "outputs": [],
   "source": [
    "model.compile(loss='categorical_crossentropy',  #设置损失函数，在深度学习中使用cross_entropy(交叉熵)训练的效果比较好。\n",
    "              optimizer='adam',         #设置训练时，在深度学习中使用adam优化器可以让训练更快收敛，并提高准确率。\n",
    "              metrics=['accuracy'])    #设置评估模型的方式是准确率"
   ]
  },
  {
   "cell_type": "markdown",
   "metadata": {},
   "source": [
    "### 4.2 开始训练"
   ]
  },
  {
   "cell_type": "code",
   "execution_count": 15,
   "metadata": {},
   "outputs": [
    {
     "name": "stdout",
     "output_type": "stream",
     "text": [
      "Train on 48000 samples, validate on 12000 samples\n",
      "Epoch 1/10\n",
      " - 62s - loss: 0.4899 - acc: 0.8474 - val_loss: 0.0966 - val_acc: 0.9723\n",
      "Epoch 2/10\n",
      " - 61s - loss: 0.1401 - acc: 0.9586 - val_loss: 0.0638 - val_acc: 0.9799\n",
      "Epoch 3/10\n",
      " - 67s - loss: 0.1016 - acc: 0.9695 - val_loss: 0.0518 - val_acc: 0.9840\n",
      "Epoch 4/10\n",
      " - 67s - loss: 0.0841 - acc: 0.9757 - val_loss: 0.0464 - val_acc: 0.9862\n",
      "Epoch 5/10\n",
      " - 66s - loss: 0.0718 - acc: 0.9779 - val_loss: 0.0397 - val_acc: 0.9873\n",
      "Epoch 6/10\n",
      " - 67s - loss: 0.0647 - acc: 0.9807 - val_loss: 0.0392 - val_acc: 0.9879\n",
      "Epoch 7/10\n",
      " - 67s - loss: 0.0567 - acc: 0.9825 - val_loss: 0.0428 - val_acc: 0.9874\n",
      "Epoch 8/10\n",
      " - 66s - loss: 0.0513 - acc: 0.9841 - val_loss: 0.0330 - val_acc: 0.9902\n",
      "Epoch 9/10\n",
      " - 66s - loss: 0.0454 - acc: 0.9863 - val_loss: 0.0344 - val_acc: 0.9897\n",
      "Epoch 10/10\n",
      " - 66s - loss: 0.0428 - acc: 0.9865 - val_loss: 0.0344 - val_acc: 0.9899\n"
     ]
    }
   ],
   "source": [
    "train_history=model.fit(x=x_Train4D_normalize,y=y_TrainOneHot,validation_split=0.2,epochs=10,batch_size=300,\n",
    "                       verbose=2)     #verbose=2表示显示训练过程"
   ]
  },
  {
   "cell_type": "markdown",
   "metadata": {
    "collapsed": true
   },
   "source": [
    "### 4.3 画出准确率执行结果"
   ]
  },
  {
   "cell_type": "code",
   "execution_count": 16,
   "metadata": {
    "collapsed": true
   },
   "outputs": [],
   "source": [
    "import matplotlib.pyplot as plt\n",
    "def show_train_history(train_history,train,validation):   #train表示训练数据的执行结果，validation表示验证数据的执行结果\n",
    "    plt.plot(train_history.history[train])\n",
    "    plt.plot(train_history.history[validation])\n",
    "    plt.title('Train History')                 #显示图的标题\n",
    "    plt.ylabel(train)                          #显示y轴的标签\n",
    "    plt.xlabel('Epoch')                        #设置x轴的标签为‘Epoch’       \n",
    "    plt.legend(['train','validation'],loc='upper left')     #设置图例是显示‘train’与‘validation’，位置在左上角\n",
    "    plt.show()"
   ]
  },
  {
   "cell_type": "code",
   "execution_count": 17,
   "metadata": {},
   "outputs": [
    {
     "data": {
      "image/png": "[encoded data removed]",
      "text/plain": [
       "<matplotlib.figure.Figure at 0x13db2c88>"
      ]
     },
     "metadata": {},
     "output_type": "display_data"
    }
   ],
   "source": [
    "show_train_history(train_history,'acc','val_acc')"
   ]
  },
  {
   "cell_type": "markdown",
   "metadata": {},
   "source": [
    "### 4.4 画出误差执行结果"
   ]
  },
  {
   "cell_type": "code",
   "execution_count": 18,
   "metadata": {},
   "outputs": [
    {
     "data": {
      "image/png": "[encoded data removed]",
      "text/plain": [
       "<matplotlib.figure.Figure at 0x1be42f60>"
      ]
     },
     "metadata": {},
     "output_type": "display_data"
    }
   ],
   "source": [
    "show_train_history(train_history,'loss','val_loss')"
   ]
  },
  {
   "cell_type": "markdown",
   "metadata": {},
   "source": [
    "## 5 评估模型准确率"
   ]
  },
  {
   "cell_type": "code",
   "execution_count": 19,
   "metadata": {},
   "outputs": [
    {
     "name": "stdout",
     "output_type": "stream",
     "text": [
      "10000/10000 [==============================] - 6s 611us/step\n",
      "\n",
      "accuracy= 0.9917\n"
     ]
    }
   ],
   "source": [
    "scores = model.evaluate(x_Test4D_normalize,y_TestOneHot)\n",
    "print()\n",
    "print('accuracy=',scores[1])     #显示准确率"
   ]
  },
  {
   "cell_type": "markdown",
   "metadata": {},
   "source": [
    "## 6 进行预测"
   ]
  },
  {
   "cell_type": "markdown",
   "metadata": {},
   "source": [
    "### 6.1 执行预测"
   ]
  },
  {
   "cell_type": "code",
   "execution_count": 20,
   "metadata": {
    "collapsed": true
   },
   "outputs": [],
   "source": [
    "prediction = model.predict_classes(x_Test4D_normalize)"
   ]
  },
  {
   "cell_type": "markdown",
   "metadata": {},
   "source": [
    "### 6.2 预测结果"
   ]
  },
  {
   "cell_type": "code",
   "execution_count": 21,
   "metadata": {},
   "outputs": [
    {
     "data": {
      "text/plain": [
       "array([7, 2, 1, 0, 4, 1, 4, 9, 5, 9], dtype=int64)"
      ]
     },
     "execution_count": 21,
     "metadata": {},
     "output_type": "execute_result"
    }
   ],
   "source": [
    "prediction[:10]"
   ]
  },
  {
   "cell_type": "markdown",
   "metadata": {},
   "source": [
    "### 6.3 显示预测结果"
   ]
  },
  {
   "cell_type": "code",
   "execution_count": 34,
   "metadata": {
    "collapsed": true
   },
   "outputs": [],
   "source": [
    "def plot_images_labels_prediction(images,labels,prediction,idx,num=10):\n",
    "    fig=plt.gcf()\n",
    "    fig.set_size_inches(12,12)\n",
    "    if num>25:\n",
    "        num=25\n",
    "    for i in range(0,num):\n",
    "        ax=plt.subplot(6,6,1+i)\n",
    "        ax.imshow(images[idx],cmap='binary')\n",
    "        title=\"label=\"+str(labels[idx])\n",
    "        if len(prediction)>0:\n",
    "            title+=\",prediction=\"+str(prediction[idx])\n",
    "        ax.set_title(title,fontsize=10)\n",
    "        ax.set_xticks([]);ax.set_yticks([])   #设置不显示刻度\n",
    "        idx+=1\n",
    "    plt.show()"
   ]
  },
  {
   "cell_type": "code",
   "execution_count": 38,
   "metadata": {},
   "outputs": [
    {
     "data": {
      "image/png": "[encoded data removed]",
      "text/plain": [
       "<matplotlib.figure.Figure at 0x1be50e10>"
      ]
     },
     "metadata": {},
     "output_type": "display_data"
    }
   ],
   "source": [
    "plot_images_labels_prediction(x_Test,y_Test,prediction,idx=0)"
   ]
  },
  {
   "cell_type": "markdown",
   "metadata": {},
   "source": [
    "## 7 显示混淆矩阵"
   ]
  },
  {
   "cell_type": "code",
   "execution_count": 40,
   "metadata": {},
   "outputs": [
    {
     "data": {
      "text/html": [
       "<div>\n",
       "<style>\n",
       "    .dataframe thead tr:only-child th {\n",
       "        text-align: right;\n",
       "    }\n",
       "\n",
       "    .dataframe thead th {\n",
       "        text-align: left;\n",
       "    }\n",
       "\n",
       "    .dataframe tbody tr th {\n",
       "        vertical-align: top;\n",
       "    }\n",
       "</style>\n",
       "<table border=\"1\" class=\"dataframe\">\n",
       "  <thead>\n",
       "    <tr style=\"text-align: right;\">\n",
       "      <th>predict</th>\n",
       "      <th>0</th>\n",
       "      <th>1</th>\n",
       "      <th>2</th>\n",
       "      <th>3</th>\n",
       "      <th>4</th>\n",
       "      <th>5</th>\n",
       "      <th>6</th>\n",
       "      <th>7</th>\n",
       "      <th>8</th>\n",
       "      <th>9</th>\n",
       "    </tr>\n",
       "    <tr>\n",
       "      <th>lable</th>\n",
       "      <th></th>\n",
       "      <th></th>\n",
       "      <th></th>\n",
       "      <th></th>\n",
       "      <th></th>\n",
       "      <th></th>\n",
       "      <th></th>\n",
       "      <th></th>\n",
       "      <th></th>\n",
       "      <th></th>\n",
       "    </tr>\n",
       "  </thead>\n",
       "  <tbody>\n",
       "    <tr>\n",
       "      <th>0</th>\n",
       "      <td>977</td>\n",
       "      <td>0</td>\n",
       "      <td>0</td>\n",
       "      <td>0</td>\n",
       "      <td>0</td>\n",
       "      <td>0</td>\n",
       "      <td>2</td>\n",
       "      <td>1</td>\n",
       "      <td>0</td>\n",
       "      <td>0</td>\n",
       "    </tr>\n",
       "    <tr>\n",
       "      <th>1</th>\n",
       "      <td>0</td>\n",
       "      <td>1131</td>\n",
       "      <td>1</td>\n",
       "      <td>0</td>\n",
       "      <td>0</td>\n",
       "      <td>1</td>\n",
       "      <td>0</td>\n",
       "      <td>1</td>\n",
       "      <td>1</td>\n",
       "      <td>0</td>\n",
       "    </tr>\n",
       "    <tr>\n",
       "      <th>2</th>\n",
       "      <td>3</td>\n",
       "      <td>2</td>\n",
       "      <td>1024</td>\n",
       "      <td>0</td>\n",
       "      <td>1</td>\n",
       "      <td>0</td>\n",
       "      <td>0</td>\n",
       "      <td>2</td>\n",
       "      <td>0</td>\n",
       "      <td>0</td>\n",
       "    </tr>\n",
       "    <tr>\n",
       "      <th>3</th>\n",
       "      <td>0</td>\n",
       "      <td>0</td>\n",
       "      <td>0</td>\n",
       "      <td>1004</td>\n",
       "      <td>0</td>\n",
       "      <td>2</td>\n",
       "      <td>0</td>\n",
       "      <td>2</td>\n",
       "      <td>2</td>\n",
       "      <td>0</td>\n",
       "    </tr>\n",
       "    <tr>\n",
       "      <th>4</th>\n",
       "      <td>0</td>\n",
       "      <td>0</td>\n",
       "      <td>0</td>\n",
       "      <td>0</td>\n",
       "      <td>977</td>\n",
       "      <td>0</td>\n",
       "      <td>1</td>\n",
       "      <td>0</td>\n",
       "      <td>0</td>\n",
       "      <td>4</td>\n",
       "    </tr>\n",
       "    <tr>\n",
       "      <th>5</th>\n",
       "      <td>1</td>\n",
       "      <td>0</td>\n",
       "      <td>0</td>\n",
       "      <td>5</td>\n",
       "      <td>0</td>\n",
       "      <td>882</td>\n",
       "      <td>2</td>\n",
       "      <td>0</td>\n",
       "      <td>0</td>\n",
       "      <td>2</td>\n",
       "    </tr>\n",
       "    <tr>\n",
       "      <th>6</th>\n",
       "      <td>5</td>\n",
       "      <td>2</td>\n",
       "      <td>0</td>\n",
       "      <td>1</td>\n",
       "      <td>1</td>\n",
       "      <td>1</td>\n",
       "      <td>947</td>\n",
       "      <td>0</td>\n",
       "      <td>1</td>\n",
       "      <td>0</td>\n",
       "    </tr>\n",
       "    <tr>\n",
       "      <th>7</th>\n",
       "      <td>0</td>\n",
       "      <td>2</td>\n",
       "      <td>1</td>\n",
       "      <td>0</td>\n",
       "      <td>0</td>\n",
       "      <td>0</td>\n",
       "      <td>0</td>\n",
       "      <td>1022</td>\n",
       "      <td>1</td>\n",
       "      <td>2</td>\n",
       "    </tr>\n",
       "    <tr>\n",
       "      <th>8</th>\n",
       "      <td>3</td>\n",
       "      <td>0</td>\n",
       "      <td>3</td>\n",
       "      <td>2</td>\n",
       "      <td>1</td>\n",
       "      <td>1</td>\n",
       "      <td>0</td>\n",
       "      <td>2</td>\n",
       "      <td>957</td>\n",
       "      <td>5</td>\n",
       "    </tr>\n",
       "    <tr>\n",
       "      <th>9</th>\n",
       "      <td>0</td>\n",
       "      <td>4</td>\n",
       "      <td>0</td>\n",
       "      <td>1</td>\n",
       "      <td>5</td>\n",
       "      <td>1</td>\n",
       "      <td>0</td>\n",
       "      <td>2</td>\n",
       "      <td>0</td>\n",
       "      <td>996</td>\n",
       "    </tr>\n",
       "  </tbody>\n",
       "</table>\n",
       "</div>"
      ],
      "text/plain": [
       "predict    0     1     2     3    4    5    6     7    8    9\n",
       "lable                                                        \n",
       "0        977     0     0     0    0    0    2     1    0    0\n",
       "1          0  1131     1     0    0    1    0     1    1    0\n",
       "2          3     2  1024     0    1    0    0     2    0    0\n",
       "3          0     0     0  1004    0    2    0     2    2    0\n",
       "4          0     0     0     0  977    0    1     0    0    4\n",
       "5          1     0     0     5    0  882    2     0    0    2\n",
       "6          5     2     0     1    1    1  947     0    1    0\n",
       "7          0     2     1     0    0    0    0  1022    1    2\n",
       "8          3     0     3     2    1    1    0     2  957    5\n",
       "9          0     4     0     1    5    1    0     2    0  996"
      ]
     },
     "execution_count": 40,
     "metadata": {},
     "output_type": "execute_result"
    }
   ],
   "source": [
    "import pandas as pd\n",
    "pd.crosstab(y_Test,prediction,rownames=['lable'],colnames=['predict'])"
   ]
  },
  {
   "cell_type": "markdown",
   "metadata": {},
   "source": [
    "## 卷积过程展示"
   ]
  },
  {
   "cell_type": "code",
   "execution_count": 6,
   "metadata": {},
   "outputs": [],
   "source": [
    "from keras.datasets import mnist\n",
    "from keras.utils import np_utils\n",
    "from keras.models import Sequential\n",
    "from keras.layers import Dense,Dropout,Flatten,Conv2D,MaxPool2D\n",
    "import numpy as np\n",
    "from scipy import signal\n",
    "import matplotlib.pyplot as plt\n",
    "import pylab\n",
    "np.random.seed(10)  #设置seed可以产生随机数\n",
    "(x_Train,y_Train),(x_Test,y_Test) = mnist.load_data()"
   ]
  },
  {
   "cell_type": "code",
   "execution_count": 7,
   "metadata": {
    "collapsed": true
   },
   "outputs": [],
   "source": [
    "def convolve(img,fil,mode = 'same'):    #分别提取三个通道\n",
    "    if mode == 'fill':\n",
    "        h = fil.shape[0] // 2\n",
    "        w = fil.shape[1] // 2\n",
    "        img = np.pad(img, ((h, h), (w, w),(0, 0)), 'constant')\n",
    "    conv_b = _convolve(img[:,:,0],fil)              #然后去进行卷积操作\n",
    "    conv_g = _convolve(img[:,:,1],fil)\n",
    "    conv_r = _convolve(img[:,:,2],fil)\n",
    "    dstack = np.dstack([conv_b,conv_g,conv_r])   #将卷积后的三个通道合并\n",
    "    return dstack                          #返回卷积后的结果\n",
    "\n",
    "def _convolve(img,fil):                   \n",
    "    fil_heigh = fil.shape[0]                    #获取卷积核(滤波)的高度\n",
    "    fil_width = fil.shape[1]                    #获取卷积核(滤波)的宽度\n",
    "    \n",
    "    conv_heigh = img.shape[0] - fil.shape[0] + 1  #确定卷积结果的大小\n",
    "    conv_width = img.shape[1] - fil.shape[1] + 1\n",
    "    \n",
    "    conv = np.zeros((conv_heigh,conv_width),dtype = 'uint8')\n",
    "    for i in range(conv_heigh):\n",
    "        for j in range(conv_width):              #逐点相乘并求和得到每一个点         \n",
    "            conv[i][j] = wise_element_sum(img[i:i + fil_heigh,j:j + fil_width ],fil)\n",
    "    return conv\n",
    "def wise_element_sum(img, fil):\n",
    "    return (img * fil).sum()"
   ]
  },
  {
   "cell_type": "code",
   "execution_count": 8,
   "metadata": {},
   "outputs": [
    {
     "data": {
      "image/png": "[encoded data removed]",
      "text/plain": [
       "<matplotlib.figure.Figure at 0x1b081ef0>"
      ]
     },
     "metadata": {},
     "output_type": "display_data"
    }
   ],
   "source": [
    "img = plt.imread('7.jpg')\n",
    "img.shape\n",
    "plt.imshow(img)\n",
    "pylab.show()"
   ]
  },
  {
   "cell_type": "code",
   "execution_count": 9,
   "metadata": {},
   "outputs": [
    {
     "name": "stdout",
     "output_type": "stream",
     "text": [
      "img shape :(28, 28, 3)\n"
     ]
    },
    {
     "data": {
      "image/png": "[encoded data removed]",
      "text/plain": [
       "<matplotlib.figure.Figure at 0xdafb588>"
      ]
     },
     "metadata": {},
     "output_type": "display_data"
    }
   ],
   "source": [
    "fil = np.array([[-1,-1,-1, 0, 1],[-1,-1, 0, 1, 1],[-1, 0, 1, 1, 1]])\n",
    "res = convolve(img,fil,'same')\n",
    "print(\"img shape :\" + str(img.shape))\n",
    "def plot_show(images):\n",
    "    fig=plt.gcf()\n",
    "    fig.set_size_inches(2,4)\n",
    "    ax=plt.subplot(1,1,1)\n",
    "    ax.imshow(images,cmap='binary')\n",
    "    ax.set_xticks([]);ax.set_yticks([])   #设置不显示刻度\n",
    "    plt.show()\n",
    "plot_show(res)"
   ]
  }
 ],
 "metadata": {
  "kernelspec": {
   "display_name": "Python 3",
   "language": "python",
   "name": "python3"
  },
  "language_info": {
   "codemirror_mode": {
    "name": "ipython",
    "version": 3
   },
   "file_extension": ".py",
   "mimetype": "text/x-python",
   "name": "python",
   "nbconvert_exporter": "python",
   "pygments_lexer": "ipython3",
   "version": "3.5.3"
  },
  "toc": {
   "base_numbering": "",
   "nav_menu": {},
   "number_sections": false,
   "sideBar": true,
   "skip_h1_title": false,
   "title_cell": "Table of Contents",
   "title_sidebar": "Contents",
   "toc_cell": false,
   "toc_position": {},
   "toc_section_display": true,
   "toc_window_display": true
  }
 },
 "nbformat": 4,
 "nbformat_minor": 2
}
