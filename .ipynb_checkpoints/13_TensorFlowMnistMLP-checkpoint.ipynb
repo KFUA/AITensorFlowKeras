{
 "cells": [
  {
   "cell_type": "markdown",
   "metadata": {},
   "source": [
    "# TensorFlow多层感知器识别手写数字"
   ]
  },
  {
   "cell_type": "markdown",
   "metadata": {},
   "source": [
    "## 1 数据准备"
   ]
  },
  {
   "cell_type": "code",
   "execution_count": 1,
   "metadata": {},
   "outputs": [
    {
     "name": "stderr",
     "output_type": "stream",
     "text": [
      "D:\\Python\\envs\\tensorFlow\\lib\\site-packages\\h5py\\__init__.py:34: FutureWarning: Conversion of the second argument of issubdtype from `float` to `np.floating` is deprecated. In future, it will be treated as `np.float64 == np.dtype(float).type`.\n",
      "  from ._conv import register_converters as _register_converters\n"
     ]
    },
    {
     "name": "stdout",
     "output_type": "stream",
     "text": [
      "WARNING:tensorflow:From <ipython-input-1-cb62db802a38>:3: read_data_sets (from tensorflow.contrib.learn.python.learn.datasets.mnist) is deprecated and will be removed in a future version.\n",
      "Instructions for updating:\n",
      "Please use alternatives such as official/mnist/dataset.py from tensorflow/models.\n",
      "WARNING:tensorflow:From D:\\Python\\envs\\tensorFlow\\lib\\site-packages\\tensorflow\\contrib\\learn\\python\\learn\\datasets\\mnist.py:260: maybe_download (from tensorflow.contrib.learn.python.learn.datasets.base) is deprecated and will be removed in a future version.\n",
      "Instructions for updating:\n",
      "Please write your own downloading logic.\n",
      "WARNING:tensorflow:From D:\\Python\\envs\\tensorFlow\\lib\\site-packages\\tensorflow\\contrib\\learn\\python\\learn\\datasets\\mnist.py:262: extract_images (from tensorflow.contrib.learn.python.learn.datasets.mnist) is deprecated and will be removed in a future version.\n",
      "Instructions for updating:\n",
      "Please use tf.data to implement this functionality.\n",
      "Extracting data/MNIST_data/train-images-idx3-ubyte.gz\n",
      "WARNING:tensorflow:From D:\\Python\\envs\\tensorFlow\\lib\\site-packages\\tensorflow\\contrib\\learn\\python\\learn\\datasets\\mnist.py:267: extract_labels (from tensorflow.contrib.learn.python.learn.datasets.mnist) is deprecated and will be removed in a future version.\n",
      "Instructions for updating:\n",
      "Please use tf.data to implement this functionality.\n",
      "Extracting data/MNIST_data/train-labels-idx1-ubyte.gz\n",
      "WARNING:tensorflow:From D:\\Python\\envs\\tensorFlow\\lib\\site-packages\\tensorflow\\contrib\\learn\\python\\learn\\datasets\\mnist.py:110: dense_to_one_hot (from tensorflow.contrib.learn.python.learn.datasets.mnist) is deprecated and will be removed in a future version.\n",
      "Instructions for updating:\n",
      "Please use tf.one_hot on tensors.\n",
      "Extracting data/MNIST_data/t10k-images-idx3-ubyte.gz\n",
      "Extracting data/MNIST_data/t10k-labels-idx1-ubyte.gz\n",
      "WARNING:tensorflow:From D:\\Python\\envs\\tensorFlow\\lib\\site-packages\\tensorflow\\contrib\\learn\\python\\learn\\datasets\\mnist.py:290: DataSet.__init__ (from tensorflow.contrib.learn.python.learn.datasets.mnist) is deprecated and will be removed in a future version.\n",
      "Instructions for updating:\n",
      "Please use alternatives such as official/mnist/dataset.py from tensorflow/models.\n"
     ]
    }
   ],
   "source": [
    "import tensorflow as tf\n",
    "import tensorflow.examples.tutorials.mnist.input_data as input_data\n",
    "mnist = input_data.read_data_sets(\"data/MNIST_data/\",one_hot=True)"
   ]
  },
  {
   "cell_type": "code",
   "execution_count": 2,
   "metadata": {},
   "outputs": [
    {
     "name": "stdout",
     "output_type": "stream",
     "text": [
      "train images: (55000, 784) labels: (55000, 10)\n",
      "validation images: (5000, 784) labels: (5000, 10)\n",
      "test images: (10000, 784) labels: (10000, 10)\n"
     ]
    }
   ],
   "source": [
    "print('train images:',mnist.train.images.shape,\n",
    "     'labels:',mnist.train.labels.shape)\n",
    "print('validation images:',mnist.validation.images.shape,\n",
    "     'labels:',mnist.validation.labels.shape)\n",
    "print('test images:',mnist.test.images.shape,\n",
    "     'labels:',mnist.test.labels.shape)"
   ]
  },
  {
   "cell_type": "markdown",
   "metadata": {},
   "source": [
    "## 2 建立模型"
   ]
  },
  {
   "cell_type": "markdown",
   "metadata": {},
   "source": [
    "Keras建立模型：只需要使用model=Sequential()建立线性堆叠模型，再使用model.add()方法将各个神经网络层加入模型即可。"
   ]
  },
  {
   "cell_type": "markdown",
   "metadata": {},
   "source": [
    "TensorFlow建立模型：必须自行定义layer函数（处理张量运算），然后使用layer函数构建多层感知器模型。"
   ]
  },
  {
   "cell_type": "code",
   "execution_count": 3,
   "metadata": {
    "collapsed": true
   },
   "outputs": [],
   "source": [
    "#建立layer函数\n",
    "def layer(output_dim,input_dim,inputs,activation=None):\n",
    "    W = tf.Variable(tf.random_normal([input_dim,output_dim]))\n",
    "    b = tf.Variable(tf.random_normal([1,output_dim]))\n",
    "    XWb = tf.matmul(inputs,W)+b\n",
    "    if activation is None:\n",
    "        outputs = XWb\n",
    "    else:\n",
    "        outputs = activation(XWb)\n",
    "    return outputs"
   ]
  },
  {
   "cell_type": "code",
   "execution_count": 4,
   "metadata": {
    "collapsed": true
   },
   "outputs": [],
   "source": [
    "#建立输入层\n",
    "x = tf.placeholder(\"float\",[None,784])"
   ]
  },
  {
   "cell_type": "code",
   "execution_count": 5,
   "metadata": {
    "collapsed": true
   },
   "outputs": [],
   "source": [
    "#建立隐藏层\n",
    "h1 = layer(output_dim=256,input_dim=784,\n",
    "          inputs=x,activation=tf.nn.relu)\n",
    "\n",
    "# h2 = layer(output_dim=1000,input_dim=1000,\n",
    "#           inputs=h1,activation=tf.nn.relu)"
   ]
  },
  {
   "cell_type": "code",
   "execution_count": 6,
   "metadata": {
    "collapsed": true
   },
   "outputs": [],
   "source": [
    "#建立输出层\n",
    "y_predict = layer(output_dim=10,input_dim=256,\n",
    "                 inputs=h1,activation=None)"
   ]
  },
  {
   "cell_type": "markdown",
   "metadata": {},
   "source": [
    "## 3 定义训练方式"
   ]
  },
  {
   "cell_type": "markdown",
   "metadata": {},
   "source": [
    "Keras定义训练方式：只需使用model.compile设置损失函数、优化器，并用metrics设置评估模型的方式。"
   ]
  },
  {
   "cell_type": "markdown",
   "metadata": {},
   "source": [
    "TensorFlow定义训练方式：必须自行定义损失函数的公式、优化器和设置参数，并定义评估模型准确率的公式。"
   ]
  },
  {
   "cell_type": "code",
   "execution_count": 7,
   "metadata": {
    "collapsed": true
   },
   "outputs": [],
   "source": [
    "#建立训练数据label真实值的placeholder\n",
    "y_label = tf.placeholder(\"float\",[None,10])"
   ]
  },
  {
   "cell_type": "code",
   "execution_count": 8,
   "metadata": {},
   "outputs": [
    {
     "name": "stdout",
     "output_type": "stream",
     "text": [
      "WARNING:tensorflow:From <ipython-input-8-6f60559ab796>:5: softmax_cross_entropy_with_logits (from tensorflow.python.ops.nn_ops) is deprecated and will be removed in a future version.\n",
      "Instructions for updating:\n",
      "\n",
      "Future major versions of TensorFlow will allow gradients to flow\n",
      "into the labels input on backprop by default.\n",
      "\n",
      "See `tf.nn.softmax_cross_entropy_with_logits_v2`.\n",
      "\n"
     ]
    }
   ],
   "source": [
    "#定义损失函数\n",
    "loss_function = tf.reduce_mean(        #对cross_entropy（交叉熵）计算结果求平均值\n",
    "                    tf.nn.softmax_cross_entropy_with_logits(\n",
    "                              logits = y_predict,             #预测值\n",
    "                              labels = y_label))              #真实值"
   ]
  },
  {
   "cell_type": "code",
   "execution_count": 9,
   "metadata": {
    "collapsed": true
   },
   "outputs": [],
   "source": [
    "#定义优化器\n",
    "#调用tf.train模块定义optimizer（优化器）\n",
    "#使用AdamOptimizer并设置learning_rate=0.001\n",
    "#优化器使用loss_function计算误差，并且按照误差更新模型权重与偏差，是误差最小化\n",
    "optimizer = tf.train.AdamOptimizer(learning_rate=0.001).minimize(loss_function)  "
   ]
  },
  {
   "cell_type": "markdown",
   "metadata": {},
   "source": [
    "## 4 定义评估模型准确率的方式"
   ]
  },
  {
   "cell_type": "code",
   "execution_count": 10,
   "metadata": {
    "collapsed": true
   },
   "outputs": [],
   "source": [
    "#计算每一项数据是否预测正确\n",
    "#tf.equal判断真实值与预测值是否相等，相等返回1，不相等返回0\n",
    "#tf.argmax将One-Hot Encoding转换为数字0~9\n",
    "correct_prediction = tf.equal(tf.argmax(y_label,1),    \n",
    "                              tf.argmax(y_predict,1))"
   ]
  },
  {
   "cell_type": "code",
   "execution_count": 11,
   "metadata": {
    "collapsed": true
   },
   "outputs": [],
   "source": [
    "#计算预测正确结果的平均值\n",
    "#tf.cast将correct_prediction转换为“float”\n",
    "accuracy = tf.reduce_mean(tf.cast(correct_prediction,\"float\"))"
   ]
  },
  {
   "cell_type": "markdown",
   "metadata": {},
   "source": [
    "## 5 进行训练"
   ]
  },
  {
   "cell_type": "markdown",
   "metadata": {},
   "source": [
    "Keras进行训练：只需使用model.fit就可以开始训练。"
   ]
  },
  {
   "cell_type": "markdown",
   "metadata": {},
   "source": [
    "TensorFlow进行训练：需编写程序代码来控制训练的每一个过程。"
   ]
  },
  {
   "cell_type": "markdown",
   "metadata": {},
   "source": [
    "训练数据共55000项，分为每一批次100项，要将所有数据训练完毕需执行550批次，当所有数据训练完毕，即完成一个训练周期。总共将执行15个训练周期，尽量使误差降低，并且尽量提高准确率。"
   ]
  },
  {
   "cell_type": "code",
   "execution_count": 12,
   "metadata": {
    "collapsed": true
   },
   "outputs": [],
   "source": [
    "#定义训练参数\n",
    "trainEpochs = 15\n",
    "batchSize = 100\n",
    "totalBatchs = int(mnist.train.num_examples/batchSize)\n",
    "loss_list=[];epoch_list=[];accuracy_list=[]\n",
    "from time import time\n",
    "startTime=time()\n"
   ]
  },
  {
   "cell_type": "code",
   "execution_count": 13,
   "metadata": {},
   "outputs": [
    {
     "name": "stdout",
     "output_type": "stream",
     "text": [
      "Train Epoch: 01 Loss= 5.903778553 Accuracy= 0.8432\n",
      "Train Epoch: 02 Loss= 3.722236395 Accuracy= 0.8912\n",
      "Train Epoch: 03 Loss= 2.905340195 Accuracy= 0.907\n",
      "Train Epoch: 04 Loss= 2.507868052 Accuracy= 0.9164\n",
      "Train Epoch: 05 Loss= 2.083673477 Accuracy= 0.925\n",
      "Train Epoch: 06 Loss= 1.885702133 Accuracy= 0.9306\n",
      "Train Epoch: 07 Loss= 1.734481215 Accuracy= 0.9338\n",
      "Train Epoch: 08 Loss= 1.685927153 Accuracy= 0.9354\n",
      "Train Epoch: 09 Loss= 1.605713010 Accuracy= 0.9342\n",
      "Train Epoch: 10 Loss= 1.442792535 Accuracy= 0.9386\n",
      "Train Epoch: 11 Loss= 1.327360988 Accuracy= 0.945\n",
      "Train Epoch: 12 Loss= 1.402618289 Accuracy= 0.9408\n",
      "Train Epoch: 13 Loss= 1.346608520 Accuracy= 0.945\n",
      "Train Epoch: 14 Loss= 1.300551534 Accuracy= 0.9454\n",
      "Train Epoch: 15 Loss= 1.265897512 Accuracy= 0.948\n",
      "Train Finished takes: 28.58301568031311\n",
      "Accuracy: 0.9438\n",
      "prediction_result[:10]: [7 2 1 0 4 1 5 9 6 9]\n"
     ]
    }
   ],
   "source": [
    "with tf.Session() as sess:\n",
    "    sess.run(tf.global_variables_initializer())\n",
    "    #进行训练\n",
    "    for epoch in range(trainEpochs):           #执行15个训练周期\n",
    "        for i in range(totalBatchs):           #执行550批次训练：使用优化器进行训练，使误差最小化\n",
    "            batch_x,batch_y = mnist.train.next_batch(batchSize)  #每批次读取100项数据\n",
    "            #执行批次训练\n",
    "            sess.run(optimizer,feed_dict={x:batch_x,\n",
    "                                     y_label:batch_y})\n",
    "        #使用验证数据计算准确率\n",
    "        loss,acc = sess.run([loss_function,accuracy],feed_dict={x:mnist.validation.images,\n",
    "                                                               y_label:mnist.validation.labels})\n",
    "        #显示训练结果，并存入列表用于后续显示图表\n",
    "        epoch_list.append(epoch);\n",
    "        loss_list.append(loss)\n",
    "        accuracy_list.append(acc)\n",
    "        print(\"Train Epoch:\",'%02d'%(epoch+1),\"Loss=\",\"{:.9f}\".format(loss),\"Accuracy=\",acc)\n",
    "    #显示全部运行时间\n",
    "    duration = time()-startTime\n",
    "    print(\"Train Finished takes:\",duration) \n",
    "    #评估模型准确率\n",
    "    print(\"Accuracy:\",sess.run(accuracy,feed_dict={x:mnist.test.images,\n",
    "                                                  y_label:mnist.test.labels}))\n",
    "    #进行预测\n",
    "    prediction_result = sess.run(tf.argmax(y_predict,1),\n",
    "                                feed_dict={x:mnist.test.images})\n",
    "    #预测结果\n",
    "    print(\"prediction_result[:10]:\",prediction_result[:10])"
   ]
  },
  {
   "cell_type": "markdown",
   "metadata": {
    "collapsed": true
   },
   "source": [
    "由以上结果可知，误差越来越小，准确率越来越高"
   ]
  },
  {
   "cell_type": "code",
   "execution_count": 14,
   "metadata": {},
   "outputs": [
    {
     "data": {
      "image/png": "[encoded data removed]",
      "text/plain": [
       "<matplotlib.figure.Figure at 0x18dcda58>"
      ]
     },
     "metadata": {},
     "output_type": "display_data"
    }
   ],
   "source": [
    "#画出误差执行结果\n",
    "#%matplotlib inline           #设置matplotlib在jupyter note页面显示图形，否则会另开窗口显示\n",
    "import matplotlib.pyplot as plt\n",
    "def show_loss():\n",
    "    fig = plt.gcf()\n",
    "    fig.set_size_inches(4,2)\n",
    "    plt.plot(epoch_list,loss_list,label='loss')\n",
    "    plt.ylabel('loss')\n",
    "    plt.xlabel('epoch')\n",
    "    plt.legend(['loss'],loc='upper left')\n",
    "    plt.show()\n",
    "show_loss()"
   ]
  },
  {
   "cell_type": "code",
   "execution_count": 15,
   "metadata": {},
   "outputs": [
    {
     "data": {
      "image/png": "[encoded data removed]",
      "text/plain": [
       "<matplotlib.figure.Figure at 0x1b8be860>"
      ]
     },
     "metadata": {},
     "output_type": "display_data"
    }
   ],
   "source": [
    "#画出准确率的执行结果\n",
    "def show_accuracy():\n",
    "    fig = plt.gcf()\n",
    "    fig.set_size_inches(4,2)\n",
    "    plt.plot(epoch_list,accuracy_list,label='accuracy')\n",
    "    plt.ylim(0.8,1)     #设置y轴显示的范围\n",
    "    plt.ylabel('accuracy')\n",
    "    plt.xlabel('epoch')\n",
    "    plt.legend()\n",
    "    plt.show()\n",
    "show_accuracy()"
   ]
  },
  {
   "cell_type": "code",
   "execution_count": 16,
   "metadata": {
    "collapsed": true
   },
   "outputs": [],
   "source": [
    "#显示预测结果\n",
    "import numpy as np\n",
    "def plot_images_labels_prediction(images,labels,prediction,idx,num=10):\n",
    "    fig = plt.gcf()\n",
    "    fig.set_size_inches(12,14)\n",
    "    if num>25:\n",
    "        num=25\n",
    "    for i in range(0,num):\n",
    "        ax = plt.subplot(5,5,1+i)\n",
    "        #转换image字段\n",
    "        ax.imshow(np.reshape(images[idx],(28,28)),cmap='binary')\n",
    "        #转换labels字段\n",
    "        title = \"label=\"+str(np.argmax(labels[idx]))\n",
    "        if len(prediction)>0:\n",
    "            title+=\",predict=\"+str(prediction[idx])\n",
    "        ax.set_title(title,fontsize=10)\n",
    "        ax.set_xticks([]);ax.set_yticks([])\n",
    "        idx+=1\n",
    "    plt.show()"
   ]
  },
  {
   "cell_type": "code",
   "execution_count": 17,
   "metadata": {},
   "outputs": [
    {
     "data": {
      "image/png": "[encoded data removed]",
      "text/plain": [
       "<matplotlib.figure.Figure at 0x18d02668>"
      ]
     },
     "metadata": {},
     "output_type": "display_data"
    }
   ],
   "source": [
    "plot_images_labels_prediction(mnist.test.images,mnist.test.labels,prediction_result,0)"
   ]
  },
  {
   "cell_type": "code",
   "execution_count": null,
   "metadata": {
    "collapsed": true
   },
   "outputs": [],
   "source": []
  }
 ],
 "metadata": {
  "kernelspec": {
   "display_name": "Python 3",
   "language": "python",
   "name": "python3"
  },
  "language_info": {
   "codemirror_mode": {
    "name": "ipython",
    "version": 3
   },
   "file_extension": ".py",
   "mimetype": "text/x-python",
   "name": "python",
   "nbconvert_exporter": "python",
   "pygments_lexer": "ipython3",
   "version": "3.5.3"
  },
  "toc": {
   "base_numbering": "",
   "nav_menu": {},
   "number_sections": false,
   "sideBar": true,
   "skip_h1_title": false,
   "title_cell": "Table of Contents",
   "title_sidebar": "Contents",
   "toc_cell": false,
   "toc_position": {},
   "toc_section_display": true,
   "toc_window_display": true
  }
 },
 "nbformat": 4,
 "nbformat_minor": 2
}
